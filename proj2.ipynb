{
 "cells": [
  {
   "cell_type": "code",
   "execution_count": 1,
   "metadata": {
    "deletable": false,
    "editable": false
   },
   "outputs": [],
   "source": [
    "# Initialize Otter\n",
    "import otter\n",
    "grader = otter.Notebook(\"proj2.ipynb\")"
   ]
  },
  {
   "cell_type": "markdown",
   "metadata": {},
   "source": [
    "# Project 2: Query Performance\n",
    "## Due Date: Friday 10/07, 11:59 PM\n",
    "## Assignment Details\n",
    "In this project, we will explore how the database system optimizes query execution and how users can futher tune the performance of their queries.\n",
    "\n",
    "This project works with the Lahman's Baseball Database, an open source collection of baseball statistics from 1871 to 2020. It contains a variety of data, like batting statistics, team stats, managerial records, Hall of Fame records, and much more.\n",
    "\n",
    "**Note:** If at any point during the project, the internal state of the database or its tables have been modified in an undesirable way (i.e. a modification not resulting from the instructions of a question), restart your kernel and clear output and simply re-run the notebook as normal. This will shutdown you current connection to the database, which will prevent the issue of multiple connections to the database at any given point, and when re-running the notebook you will create a fresh database based on the provided Postgres dump.\n",
    "\n",
    "## Logistics & Scoring Breakdown\n",
    "\n",
    "For Data 101 students, this project is worth 15% of your grade. For Info 258 students, this project is worth 12% of your grade.\n",
    "\n",
    "- Each coding question has **both public tests and hidden tests**. Roughly 50% of your coding grade will be made up of your score on the public tests released to you, while the remaining 50% will be made up of unreleased hidden tests.\n",
    "- Public tests for multiple choice questions are for sanity check only (e.g. you are answering in the correct format). Partial credit will be awarded.\n",
    "- Free-response questions will be manually graded. Please answer thoughtfully in complete sentences, drawing from knowledge in lectures and from your inspection of query plans.\n",
    "\n",
    "This is an **individual project**. However, you’re welcome to collaborate with any other student in the class as long as it’s within the academic honesty guidelines.\n",
    "\n",
    "Question | Points\n",
    "--- | ---\n",
    "0 | 1\n",
    "1a\t| 1\n",
    "1bi\t| 1\n",
    "1bii\t| 2\n",
    "1c\t| 1\n",
    "1di\t| 2\n",
    "1dii\t| 1\n",
    "1ei\t| 1\n",
    "1eii\t| 1\n",
    "1eiii\t| 1\n",
    "1eiv\t| 2\n",
    "1ev\t| 2\n",
    "2a\t| 1\n",
    "2b\t| 1\n",
    "2c\t| 2\n",
    "2d\t| 2\n",
    "3a\t| 1\n",
    "3b\t| 1\n",
    "3c |\t1\n",
    "3d\t| 3\n",
    "4a\t| 2\n",
    "4b\t| 1\n",
    "4c\t| 1\n",
    "4di\t| 2\n",
    "4dii |\t2\n",
    "4ei\t| 2\n",
    "4eii | \t1\n",
    "4eiii |\t2\n",
    "4eiv |\t1\n",
    "4ev |\t1\n",
    "4evi |\t2\n",
    "4evii |\t2\n",
    "5a | 2\n",
    "5b | 2\n",
    "5c | 1\n",
    "5d | 2\n",
    "6a | 2\n",
    "6b | 1\n",
    "6c | 1\n",
    "6d | 2\n",
    "6e | 2\n",
    "7a | 1\n",
    "7b | 1\n",
    "7c | 2\n",
    "8  | 6\n",
    "**Total** | 72"
   ]
  },
  {
   "cell_type": "code",
   "execution_count": 2,
   "metadata": {},
   "outputs": [],
   "source": [
    "# Run this cell to set up imports\n",
    "import numpy as np\n",
    "import pandas as pd"
   ]
  },
  {
   "cell_type": "markdown",
   "metadata": {},
   "source": [
    "## Getting Connected\n",
    "Similar to Project 1, we will be using the `ipython-sql` library to connect this notebook to a PostgreSQL database server on your JupyterHub account. Run the following cell to initiate the connection."
   ]
  },
  {
   "cell_type": "code",
   "execution_count": 3,
   "metadata": {},
   "outputs": [],
   "source": [
    "%reload_ext sql\n",
    "%sql postgresql://jovyan@127.0.0.1:5432/postgres"
   ]
  },
  {
   "cell_type": "markdown",
   "metadata": {},
   "source": [
    "## Setting up the Database\n",
    "The following cell will create the `baseball` database (if needed), unzip the Postgres dump of the Lahman's Baseball Database, populate the `baseball` database with the desired tables and data, and finally display all databases associated with the Postgres instance. After running the cell, you should see the `baseball` database in the generated list of databases outputted by `%sql \\l`.\n",
    "\n",
    "**Note:** If you run into the **role does not exist** error, feel free to ignore it. It does not affect data import."
   ]
  },
  {
   "cell_type": "code",
   "execution_count": 4,
   "metadata": {},
   "outputs": [
    {
     "name": "stdout",
     "output_type": "stream",
     "text": [
      "DROP DATABASE\n",
      "CREATE DATABASE\n",
      "SET\n",
      "SET\n",
      "SET\n",
      "SET\n",
      " set_config \n",
      "------------\n",
      " \n",
      "(1 row)\n",
      "\n",
      "SET\n",
      "SET\n",
      "SET\n",
      "CREATE EXTENSION\n",
      "COMMENT\n",
      "SET\n",
      "CREATE TABLE\n",
      "psql:<stdin>:49: ERROR:  role \"postgres\" does not exist\n",
      "CREATE TABLE\n",
      "psql:<stdin>:80: ERROR:  role \"postgres\" does not exist\n",
      "CREATE TABLE\n",
      "psql:<stdin>:96: ERROR:  role \"postgres\" does not exist\n",
      "CREATE TABLE\n",
      "psql:<stdin>:112: ERROR:  role \"postgres\" does not exist\n",
      "CREATE TABLE\n",
      "psql:<stdin>:129: ERROR:  role \"postgres\" does not exist\n",
      "CREATE TABLE\n",
      "psql:<stdin>:146: ERROR:  role \"postgres\" does not exist\n",
      "CREATE TABLE\n",
      "psql:<stdin>:178: ERROR:  role \"postgres\" does not exist\n",
      "CREATE TABLE\n",
      "psql:<stdin>:210: ERROR:  role \"postgres\" does not exist\n",
      "CREATE TABLE\n",
      "psql:<stdin>:223: ERROR:  role \"postgres\" does not exist\n",
      "CREATE TABLE\n",
      "psql:<stdin>:251: ERROR:  role \"postgres\" does not exist\n",
      "CREATE TABLE\n",
      "psql:<stdin>:267: ERROR:  role \"postgres\" does not exist\n",
      "CREATE TABLE\n",
      "psql:<stdin>:295: ERROR:  role \"postgres\" does not exist\n",
      "CREATE TABLE\n",
      "psql:<stdin>:322: ERROR:  role \"postgres\" does not exist\n",
      "CREATE TABLE\n",
      "psql:<stdin>:341: ERROR:  role \"postgres\" does not exist\n",
      "CREATE TABLE\n",
      "psql:<stdin>:360: ERROR:  role \"postgres\" does not exist\n",
      "CREATE TABLE\n",
      "psql:<stdin>:380: ERROR:  role \"postgres\" does not exist\n",
      "CREATE TABLE\n",
      "psql:<stdin>:400: ERROR:  role \"postgres\" does not exist\n",
      "CREATE TABLE\n",
      "psql:<stdin>:416: ERROR:  role \"postgres\" does not exist\n",
      "CREATE TABLE\n",
      "psql:<stdin>:450: ERROR:  role \"postgres\" does not exist\n",
      "CREATE TABLE\n",
      "psql:<stdin>:490: ERROR:  role \"postgres\" does not exist\n",
      "CREATE TABLE\n",
      "psql:<stdin>:530: ERROR:  role \"postgres\" does not exist\n",
      "CREATE TABLE\n",
      "psql:<stdin>:545: ERROR:  role \"postgres\" does not exist\n",
      "CREATE TABLE\n",
      "psql:<stdin>:560: ERROR:  role \"postgres\" does not exist\n",
      "CREATE TABLE\n",
      "psql:<stdin>:579: ERROR:  role \"postgres\" does not exist\n",
      "CREATE TABLE\n",
      "psql:<stdin>:637: ERROR:  role \"postgres\" does not exist\n",
      "CREATE TABLE\n",
      "psql:<stdin>:651: ERROR:  role \"postgres\" does not exist\n",
      "CREATE TABLE\n",
      "psql:<stdin>:671: ERROR:  role \"postgres\" does not exist\n",
      "COPY 5219\n",
      "COPY 104256\n",
      "COPY 179\n",
      "COPY 6236\n",
      "COPY 425\n",
      "COPY 6879\n",
      "COPY 104324\n",
      "COPY 13943\n",
      "COPY 17350\n",
      "COPY 138838\n",
      "COPY 12028\n",
      "COPY 31955\n",
      "COPY 13110\n",
      "COPY 4191\n",
      "COPY 3040\n",
      "COPY 3469\n",
      "COPY 93\n",
      "COPY 252\n",
      "COPY 19370\n",
      "COPY 45806\n",
      "COPY 5445\n",
      "COPY 26428\n",
      "COPY 1207\n",
      "COPY 325\n",
      "COPY 2865\n",
      "COPY 120\n",
      "COPY 52\n",
      "ALTER TABLE\n",
      "ALTER TABLE\n",
      "ALTER TABLE\n",
      "ALTER TABLE\n",
      "ALTER TABLE\n",
      "ALTER TABLE\n",
      "ALTER TABLE\n",
      "ALTER TABLE\n",
      "ALTER TABLE\n",
      "ALTER TABLE\n",
      "ALTER TABLE\n",
      "ALTER TABLE\n",
      "ALTER TABLE\n",
      "ALTER TABLE\n",
      "ALTER TABLE\n",
      "ALTER TABLE\n",
      "ALTER TABLE\n",
      "ALTER TABLE\n",
      "ALTER TABLE\n",
      "ALTER TABLE\n",
      "ALTER TABLE\n",
      "ALTER TABLE\n",
      "ALTER TABLE\n",
      "ALTER TABLE\n",
      "ALTER TABLE\n",
      "ALTER TABLE\n",
      "SET\n",
      " * postgresql://jovyan@127.0.0.1:5432/postgres\n",
      "6 rows affected.\n"
     ]
    },
    {
     "data": {
      "text/html": [
       "<table>\n",
       "    <tr>\n",
       "        <th>Name</th>\n",
       "        <th>Owner</th>\n",
       "        <th>Encoding</th>\n",
       "        <th>Collate</th>\n",
       "        <th>Ctype</th>\n",
       "        <th>Access privileges</th>\n",
       "    </tr>\n",
       "    <tr>\n",
       "        <td>baseball</td>\n",
       "        <td>jovyan</td>\n",
       "        <td>UTF8</td>\n",
       "        <td>en_US.utf8</td>\n",
       "        <td>en_US.utf8</td>\n",
       "        <td>None</td>\n",
       "    </tr>\n",
       "    <tr>\n",
       "        <td>imdb</td>\n",
       "        <td>jovyan</td>\n",
       "        <td>UTF8</td>\n",
       "        <td>en_US.utf8</td>\n",
       "        <td>en_US.utf8</td>\n",
       "        <td>None</td>\n",
       "    </tr>\n",
       "    <tr>\n",
       "        <td>jovyan</td>\n",
       "        <td>jovyan</td>\n",
       "        <td>UTF8</td>\n",
       "        <td>en_US.utf8</td>\n",
       "        <td>en_US.utf8</td>\n",
       "        <td>None</td>\n",
       "    </tr>\n",
       "    <tr>\n",
       "        <td>postgres</td>\n",
       "        <td>jovyan</td>\n",
       "        <td>UTF8</td>\n",
       "        <td>en_US.utf8</td>\n",
       "        <td>en_US.utf8</td>\n",
       "        <td>None</td>\n",
       "    </tr>\n",
       "    <tr>\n",
       "        <td>template0</td>\n",
       "        <td>jovyan</td>\n",
       "        <td>UTF8</td>\n",
       "        <td>en_US.utf8</td>\n",
       "        <td>en_US.utf8</td>\n",
       "        <td>=c/jovyan<br>jovyan=CTc/jovyan</td>\n",
       "    </tr>\n",
       "    <tr>\n",
       "        <td>template1</td>\n",
       "        <td>jovyan</td>\n",
       "        <td>UTF8</td>\n",
       "        <td>en_US.utf8</td>\n",
       "        <td>en_US.utf8</td>\n",
       "        <td>=c/jovyan<br>jovyan=CTc/jovyan</td>\n",
       "    </tr>\n",
       "</table>"
      ],
      "text/plain": [
       "[('baseball', 'jovyan', 'UTF8', 'en_US.utf8', 'en_US.utf8', None),\n",
       " ('imdb', 'jovyan', 'UTF8', 'en_US.utf8', 'en_US.utf8', None),\n",
       " ('jovyan', 'jovyan', 'UTF8', 'en_US.utf8', 'en_US.utf8', None),\n",
       " ('postgres', 'jovyan', 'UTF8', 'en_US.utf8', 'en_US.utf8', None),\n",
       " ('template0',\n",
       "  'jovyan',\n",
       "  'UTF8',\n",
       "  'en_US.utf8',\n",
       "  'en_US.utf8',\n",
       "  '=c/jovyan\\njovyan=CTc/jovyan'),\n",
       " ('template1',\n",
       "  'jovyan',\n",
       "  'UTF8',\n",
       "  'en_US.utf8',\n",
       "  'en_US.utf8',\n",
       "  '=c/jovyan\\njovyan=CTc/jovyan')]"
      ]
     },
     "execution_count": 4,
     "metadata": {},
     "output_type": "execute_result"
    }
   ],
   "source": [
    "!psql -h localhost -c 'DROP DATABASE IF EXISTS baseball'\n",
    "!psql -h localhost -c 'CREATE DATABASE baseball'\n",
    "!gzip -dc data/lahman.pgdump.gz | psql -h localhost -d baseball -f -\n",
    "!psql -h localhost -c 'SET max_parallel_workers_per_gather = 0;'\n",
    "%sql \\l"
   ]
  },
  {
   "cell_type": "markdown",
   "metadata": {},
   "source": [
    "Now, run the following cell to connect to the `baseball` database. There should be no errors after running the following cell."
   ]
  },
  {
   "cell_type": "code",
   "execution_count": 5,
   "metadata": {},
   "outputs": [],
   "source": [
    "%sql postgresql://jovyan@127.0.0.1:5432/baseball"
   ]
  },
  {
   "cell_type": "markdown",
   "metadata": {},
   "source": [
    "To ensure that the connection to the database has been established, let's try grabbing the first 5 rows from the `halloffame` table."
   ]
  },
  {
   "cell_type": "code",
   "execution_count": 6,
   "metadata": {},
   "outputs": [
    {
     "name": "stdout",
     "output_type": "stream",
     "text": [
      " * postgresql://jovyan@127.0.0.1:5432/baseball\n",
      "   postgresql://jovyan@127.0.0.1:5432/postgres\n",
      "5 rows affected.\n"
     ]
    },
    {
     "data": {
      "text/html": [
       "<table>\n",
       "    <tr>\n",
       "        <th>playerid</th>\n",
       "        <th>yearid</th>\n",
       "        <th>votedby</th>\n",
       "        <th>ballots</th>\n",
       "        <th>needed</th>\n",
       "        <th>votes</th>\n",
       "        <th>inducted</th>\n",
       "        <th>category</th>\n",
       "        <th>needed_note</th>\n",
       "    </tr>\n",
       "    <tr>\n",
       "        <td>cobbty01</td>\n",
       "        <td>1936</td>\n",
       "        <td>BBWAA</td>\n",
       "        <td>226</td>\n",
       "        <td>170</td>\n",
       "        <td>222</td>\n",
       "        <td>Y</td>\n",
       "        <td>Player</td>\n",
       "        <td>None</td>\n",
       "    </tr>\n",
       "    <tr>\n",
       "        <td>ruthba01</td>\n",
       "        <td>1936</td>\n",
       "        <td>BBWAA</td>\n",
       "        <td>226</td>\n",
       "        <td>170</td>\n",
       "        <td>215</td>\n",
       "        <td>Y</td>\n",
       "        <td>Player</td>\n",
       "        <td>None</td>\n",
       "    </tr>\n",
       "    <tr>\n",
       "        <td>wagneho01</td>\n",
       "        <td>1936</td>\n",
       "        <td>BBWAA</td>\n",
       "        <td>226</td>\n",
       "        <td>170</td>\n",
       "        <td>215</td>\n",
       "        <td>Y</td>\n",
       "        <td>Player</td>\n",
       "        <td>None</td>\n",
       "    </tr>\n",
       "    <tr>\n",
       "        <td>mathech01</td>\n",
       "        <td>1936</td>\n",
       "        <td>BBWAA</td>\n",
       "        <td>226</td>\n",
       "        <td>170</td>\n",
       "        <td>205</td>\n",
       "        <td>Y</td>\n",
       "        <td>Player</td>\n",
       "        <td>None</td>\n",
       "    </tr>\n",
       "    <tr>\n",
       "        <td>johnswa01</td>\n",
       "        <td>1936</td>\n",
       "        <td>BBWAA</td>\n",
       "        <td>226</td>\n",
       "        <td>170</td>\n",
       "        <td>189</td>\n",
       "        <td>Y</td>\n",
       "        <td>Player</td>\n",
       "        <td>None</td>\n",
       "    </tr>\n",
       "</table>"
      ],
      "text/plain": [
       "[('cobbty01', 1936, 'BBWAA', 226, 170, 222, 'Y', 'Player', None),\n",
       " ('ruthba01', 1936, 'BBWAA', 226, 170, 215, 'Y', 'Player', None),\n",
       " ('wagneho01', 1936, 'BBWAA', 226, 170, 215, 'Y', 'Player', None),\n",
       " ('mathech01', 1936, 'BBWAA', 226, 170, 205, 'Y', 'Player', None),\n",
       " ('johnswa01', 1936, 'BBWAA', 226, 170, 189, 'Y', 'Player', None)]"
      ]
     },
     "execution_count": 6,
     "metadata": {},
     "output_type": "execute_result"
    }
   ],
   "source": [
    "%%sql\n",
    "SELECT * FROM halloffame LIMIT 5"
   ]
  },
  {
   "cell_type": "markdown",
   "metadata": {},
   "source": [
    "Run the following cell for grading purposes."
   ]
  },
  {
   "cell_type": "code",
   "execution_count": 7,
   "metadata": {},
   "outputs": [],
   "source": [
    "!mkdir -p results"
   ]
  },
  {
   "cell_type": "markdown",
   "metadata": {},
   "source": [
    "## Table Descriptions\n",
    "In its entirety the Lahman's Baseball Database contains 27 tables containing a variety of statistics for players, teams, games, schools, etc. For simplicity, this project will focus on a subset of the tables:\n",
    "* `appearances`: details on the positions each player appeared at\n",
    "* `batting`: batting statistics for each player\n",
    "* `collegeplaying`: list of players and the colleges they attended\n",
    "* `halloffame`: Hall of Fame voting data\n",
    "* `people`: player information (name, date of birth, and biographical info)\n",
    "* `salaries`: player salary data\n",
    "* `schools`: list of colleges that players attended\n",
    "\n",
    "As a reminder from Project 1, `%sql \\d <table_name>` is helpful for identifying the columns in a table."
   ]
  },
  {
   "cell_type": "markdown",
   "metadata": {
    "deletable": false,
    "editable": false
   },
   "source": [
    "## Question 0: PostgreSQL Explain Analyze\n",
    "**Please read through this section carefully, as a vast majority of the project will require you to inspect query plans via interpreting the output of the explain analyze command.**\n",
    "\n",
    "To inspect the query plan for a given query, create a variable storing the query as a string and invoke a `psql` shell command to `explain analyze` the query: \n",
    "\n",
    "`your_variable = \"__REPLACE_ME_WITH_QUERY__\"`\n",
    "\n",
    "`!psql -h localhost -d baseball -c \"explain analyze $your_variable\"`\n",
    "\n",
    "Take a look at the following sample query plan.\n",
    "\n",
    "![title](data/sample_query.png)\n",
    "\n",
    "It is highly recommended to read through [this article](https://www.cybertec-postgresql.com/en/how-to-interpret-postgresql-explain-analyze-output/) to see how you can interpret the output above. Everything before \"Tools to interpret Explain Analyze output\" is useful.\n",
    "\n",
    "Here are some key things to note:\n",
    "- There are two cost values: the first is the **startup cost** (cost to return the first row) and the second is the **total cost** (cost to return all rows).\n",
    "- The unit for the estimated query cost is arbitrary (1 is the cost for reading an 8kB page during a sequential scan)\n",
    "- When we ask you to identify the query cost, we are looking for the **total cost**\n",
    "- When we ask you to identify the query time, we are looking for the **execution time** (in ms)\n",
    "- Feel free to round the query cost / time to the nearest integer, but we'll accept anything more exact\n",
    "- We recognzie that the execution time may vary between different cell executions, so the autograder will tolerate a reasonable range\n",
    "\n",
    "Now, inspect the query plan above, and record the **cost** and **time** for the sample query.\n",
    "\n",
    "<!--\n",
    "BEGIN QUESTION\n",
    "name: q0\n",
    "points: 1\n",
    "-->"
   ]
  },
  {
   "cell_type": "code",
   "execution_count": 8,
   "metadata": {},
   "outputs": [],
   "source": [
    "sample_query_cost = 1193.88\n",
    "sample_query_timing = 185.896"
   ]
  },
  {
   "cell_type": "code",
   "execution_count": 9,
   "metadata": {
    "deletable": false,
    "editable": false
   },
   "outputs": [
    {
     "data": {
      "text/html": [
       "<p><strong><pre style='display: inline;'>q0</pre></strong> passed!</p>"
      ],
      "text/plain": [
       "q0 results: All test cases passed!"
      ]
     },
     "execution_count": 9,
     "metadata": {},
     "output_type": "execute_result"
    }
   ],
   "source": [
    "grader.check(\"q0\")"
   ]
  },
  {
   "cell_type": "markdown",
   "metadata": {},
   "source": [
    "## Question 1: Queries and Views\n",
    "### Question 1a:\n",
    "Write a query that finds `namefirst`, `namelast`, `playerid` and `yearid` of all people who were successfully inducted into the Hall of Fame. **Note**: Your query should **NOT** use any sub-queries."
   ]
  },
  {
   "cell_type": "code",
   "execution_count": 10,
   "metadata": {},
   "outputs": [
    {
     "name": "stdout",
     "output_type": "stream",
     "text": [
      " * postgresql://jovyan@127.0.0.1:5432/baseball\n",
      "   postgresql://jovyan@127.0.0.1:5432/postgres\n",
      "9 rows affected.\n"
     ]
    },
    {
     "data": {
      "text/html": [
       "<table>\n",
       "    <tr>\n",
       "        <th>Column</th>\n",
       "        <th>Type</th>\n",
       "        <th>Modifiers</th>\n",
       "    </tr>\n",
       "    <tr>\n",
       "        <td>playerid</td>\n",
       "        <td>character varying(10)</td>\n",
       "        <td> not null</td>\n",
       "    </tr>\n",
       "    <tr>\n",
       "        <td>yearid</td>\n",
       "        <td>integer</td>\n",
       "        <td> not null</td>\n",
       "    </tr>\n",
       "    <tr>\n",
       "        <td>votedby</td>\n",
       "        <td>character varying(64)</td>\n",
       "        <td> not null default &#x27;&#x27;::character varying</td>\n",
       "    </tr>\n",
       "    <tr>\n",
       "        <td>ballots</td>\n",
       "        <td>integer</td>\n",
       "        <td></td>\n",
       "    </tr>\n",
       "    <tr>\n",
       "        <td>needed</td>\n",
       "        <td>integer</td>\n",
       "        <td></td>\n",
       "    </tr>\n",
       "    <tr>\n",
       "        <td>votes</td>\n",
       "        <td>integer</td>\n",
       "        <td></td>\n",
       "    </tr>\n",
       "    <tr>\n",
       "        <td>inducted</td>\n",
       "        <td>character varying(1)</td>\n",
       "        <td> default NULL::character varying</td>\n",
       "    </tr>\n",
       "    <tr>\n",
       "        <td>category</td>\n",
       "        <td>character varying(20)</td>\n",
       "        <td> default NULL::character varying</td>\n",
       "    </tr>\n",
       "    <tr>\n",
       "        <td>needed_note</td>\n",
       "        <td>character varying(20)</td>\n",
       "        <td> default NULL::character varying</td>\n",
       "    </tr>\n",
       "</table>"
      ],
      "text/plain": [
       "[['playerid', 'character varying(10)', ' not null'],\n",
       " ['yearid', 'integer', ' not null'],\n",
       " ['votedby',\n",
       "  'character varying(64)',\n",
       "  \" not null default ''::character varying\"],\n",
       " ['ballots', 'integer', ''],\n",
       " ['needed', 'integer', ''],\n",
       " ['votes', 'integer', ''],\n",
       " ['inducted', 'character varying(1)', ' default NULL::character varying'],\n",
       " ['category', 'character varying(20)', ' default NULL::character varying'],\n",
       " ['needed_note', 'character varying(20)', ' default NULL::character varying']]"
      ]
     },
     "execution_count": 10,
     "metadata": {},
     "output_type": "execute_result"
    }
   ],
   "source": [
    "%sql \\d halloffame"
   ]
  },
  {
   "cell_type": "code",
   "execution_count": 11,
   "metadata": {},
   "outputs": [
    {
     "name": "stdout",
     "output_type": "stream",
     "text": [
      " * postgresql://jovyan@127.0.0.1:5432/baseball\n",
      "   postgresql://jovyan@127.0.0.1:5432/postgres\n",
      "5 rows affected.\n"
     ]
    },
    {
     "data": {
      "text/html": [
       "<table>\n",
       "    <tr>\n",
       "        <th>playerid</th>\n",
       "        <th>birthyear</th>\n",
       "        <th>birthmonth</th>\n",
       "        <th>birthday</th>\n",
       "        <th>birthcountry</th>\n",
       "        <th>birthstate</th>\n",
       "        <th>birthcity</th>\n",
       "        <th>deathyear</th>\n",
       "        <th>deathmonth</th>\n",
       "        <th>deathday</th>\n",
       "        <th>deathcountry</th>\n",
       "        <th>deathstate</th>\n",
       "        <th>deathcity</th>\n",
       "        <th>namefirst</th>\n",
       "        <th>namelast</th>\n",
       "        <th>namegiven</th>\n",
       "        <th>weight</th>\n",
       "        <th>height</th>\n",
       "        <th>bats</th>\n",
       "        <th>throws</th>\n",
       "        <th>debut</th>\n",
       "        <th>finalgame</th>\n",
       "        <th>retroid</th>\n",
       "        <th>bbrefid</th>\n",
       "    </tr>\n",
       "    <tr>\n",
       "        <td>aardsda01</td>\n",
       "        <td>1981</td>\n",
       "        <td>12</td>\n",
       "        <td>27</td>\n",
       "        <td>USA</td>\n",
       "        <td>CO</td>\n",
       "        <td>Denver</td>\n",
       "        <td>None</td>\n",
       "        <td>None</td>\n",
       "        <td>None</td>\n",
       "        <td>None</td>\n",
       "        <td>None</td>\n",
       "        <td>None</td>\n",
       "        <td>David</td>\n",
       "        <td>Aardsma</td>\n",
       "        <td>David Allan</td>\n",
       "        <td>215</td>\n",
       "        <td>75.0</td>\n",
       "        <td>R</td>\n",
       "        <td>R</td>\n",
       "        <td>2004-04-06</td>\n",
       "        <td>2015-08-23</td>\n",
       "        <td>aardd001</td>\n",
       "        <td>aardsda01</td>\n",
       "    </tr>\n",
       "    <tr>\n",
       "        <td>aaronha01</td>\n",
       "        <td>1934</td>\n",
       "        <td>2</td>\n",
       "        <td>5</td>\n",
       "        <td>USA</td>\n",
       "        <td>AL</td>\n",
       "        <td>Mobile</td>\n",
       "        <td>None</td>\n",
       "        <td>None</td>\n",
       "        <td>None</td>\n",
       "        <td>None</td>\n",
       "        <td>None</td>\n",
       "        <td>None</td>\n",
       "        <td>Hank</td>\n",
       "        <td>Aaron</td>\n",
       "        <td>Henry Louis</td>\n",
       "        <td>180</td>\n",
       "        <td>72.0</td>\n",
       "        <td>R</td>\n",
       "        <td>R</td>\n",
       "        <td>1954-04-13</td>\n",
       "        <td>1976-10-03</td>\n",
       "        <td>aaroh101</td>\n",
       "        <td>aaronha01</td>\n",
       "    </tr>\n",
       "    <tr>\n",
       "        <td>aaronto01</td>\n",
       "        <td>1939</td>\n",
       "        <td>8</td>\n",
       "        <td>5</td>\n",
       "        <td>USA</td>\n",
       "        <td>AL</td>\n",
       "        <td>Mobile</td>\n",
       "        <td>1984</td>\n",
       "        <td>8</td>\n",
       "        <td>16</td>\n",
       "        <td>USA</td>\n",
       "        <td>GA</td>\n",
       "        <td>Atlanta</td>\n",
       "        <td>Tommie</td>\n",
       "        <td>Aaron</td>\n",
       "        <td>Tommie Lee</td>\n",
       "        <td>190</td>\n",
       "        <td>75.0</td>\n",
       "        <td>R</td>\n",
       "        <td>R</td>\n",
       "        <td>1962-04-10</td>\n",
       "        <td>1971-09-26</td>\n",
       "        <td>aarot101</td>\n",
       "        <td>aaronto01</td>\n",
       "    </tr>\n",
       "    <tr>\n",
       "        <td>aasedo01</td>\n",
       "        <td>1954</td>\n",
       "        <td>9</td>\n",
       "        <td>8</td>\n",
       "        <td>USA</td>\n",
       "        <td>CA</td>\n",
       "        <td>Orange</td>\n",
       "        <td>None</td>\n",
       "        <td>None</td>\n",
       "        <td>None</td>\n",
       "        <td>None</td>\n",
       "        <td>None</td>\n",
       "        <td>None</td>\n",
       "        <td>Don</td>\n",
       "        <td>Aase</td>\n",
       "        <td>Donald William</td>\n",
       "        <td>190</td>\n",
       "        <td>75.0</td>\n",
       "        <td>R</td>\n",
       "        <td>R</td>\n",
       "        <td>1977-07-26</td>\n",
       "        <td>1990-10-03</td>\n",
       "        <td>aased001</td>\n",
       "        <td>aasedo01</td>\n",
       "    </tr>\n",
       "    <tr>\n",
       "        <td>abadan01</td>\n",
       "        <td>1972</td>\n",
       "        <td>8</td>\n",
       "        <td>25</td>\n",
       "        <td>USA</td>\n",
       "        <td>FL</td>\n",
       "        <td>Palm Beach</td>\n",
       "        <td>None</td>\n",
       "        <td>None</td>\n",
       "        <td>None</td>\n",
       "        <td>None</td>\n",
       "        <td>None</td>\n",
       "        <td>None</td>\n",
       "        <td>Andy</td>\n",
       "        <td>Abad</td>\n",
       "        <td>Fausto Andres</td>\n",
       "        <td>184</td>\n",
       "        <td>73.0</td>\n",
       "        <td>L</td>\n",
       "        <td>L</td>\n",
       "        <td>2001-09-10</td>\n",
       "        <td>2006-04-13</td>\n",
       "        <td>abada001</td>\n",
       "        <td>abadan01</td>\n",
       "    </tr>\n",
       "</table>"
      ],
      "text/plain": [
       "[('aardsda01', 1981, 12, 27, 'USA', 'CO', 'Denver', None, None, None, None, None, None, 'David', 'Aardsma', 'David Allan', 215, 75.0, 'R', 'R', '2004-04-06', '2015-08-23', 'aardd001', 'aardsda01'),\n",
       " ('aaronha01', 1934, 2, 5, 'USA', 'AL', 'Mobile', None, None, None, None, None, None, 'Hank', 'Aaron', 'Henry Louis', 180, 72.0, 'R', 'R', '1954-04-13', '1976-10-03', 'aaroh101', 'aaronha01'),\n",
       " ('aaronto01', 1939, 8, 5, 'USA', 'AL', 'Mobile', 1984, 8, 16, 'USA', 'GA', 'Atlanta', 'Tommie', 'Aaron', 'Tommie Lee', 190, 75.0, 'R', 'R', '1962-04-10', '1971-09-26', 'aarot101', 'aaronto01'),\n",
       " ('aasedo01', 1954, 9, 8, 'USA', 'CA', 'Orange', None, None, None, None, None, None, 'Don', 'Aase', 'Donald William', 190, 75.0, 'R', 'R', '1977-07-26', '1990-10-03', 'aased001', 'aasedo01'),\n",
       " ('abadan01', 1972, 8, 25, 'USA', 'FL', 'Palm Beach', None, None, None, None, None, None, 'Andy', 'Abad', 'Fausto Andres', 184, 73.0, 'L', 'L', '2001-09-10', '2006-04-13', 'abada001', 'abadan01')]"
      ]
     },
     "execution_count": 11,
     "metadata": {},
     "output_type": "execute_result"
    }
   ],
   "source": [
    "%%sql\n",
    "SELECT * FROM People LIMIT 5"
   ]
  },
  {
   "cell_type": "code",
   "execution_count": 12,
   "metadata": {},
   "outputs": [
    {
     "name": "stdout",
     "output_type": "stream",
     "text": [
      " * postgresql://jovyan@127.0.0.1:5432/baseball\n",
      "   postgresql://jovyan@127.0.0.1:5432/postgres\n",
      "323 rows affected.\n",
      "Returning data to local variable result_1a\n"
     ]
    }
   ],
   "source": [
    "%%sql result_1a <<\n",
    "SELECT namefirst, namelast, p.playerid, yearid\n",
    "FROM halloffame as h, People as p\n",
    "WHERE h.playerid = p.playerid AND h.inducted = 'Y';"
   ]
  },
  {
   "cell_type": "code",
   "execution_count": 13,
   "metadata": {},
   "outputs": [],
   "source": [
    "# Do not delete/edit this cell\n",
    "result_1a.DataFrame().sort_values(['playerid', 'yearid']).to_csv('results/result_1a.csv', index=False)"
   ]
  },
  {
   "cell_type": "code",
   "execution_count": 14,
   "metadata": {
    "deletable": false,
    "editable": false
   },
   "outputs": [
    {
     "data": {
      "text/html": [
       "<p><strong><pre style='display: inline;'>q1a</pre></strong> passed!</p>"
      ],
      "text/plain": [
       "q1a results: All test cases passed!"
      ]
     },
     "execution_count": 14,
     "metadata": {},
     "output_type": "execute_result"
    }
   ],
   "source": [
    "grader.check(\"q1a\")"
   ]
  },
  {
   "cell_type": "markdown",
   "metadata": {},
   "source": [
    "### Question 1b:\n",
    "In this question, we will compare the query you wrote in `Question 1a` against the provided query in `Question 1bi` by inspecting the query plans.\n",
    "\n",
    "#### Question 1bi: \n",
    "Inspect the query plan for `provided_query` and the query you wrote in `Question 1a`. Record the **execution time** and **cost** for each query."
   ]
  },
  {
   "cell_type": "code",
   "execution_count": 15,
   "metadata": {},
   "outputs": [
    {
     "name": "stdout",
     "output_type": "stream",
     "text": [
      " * postgresql://jovyan@127.0.0.1:5432/baseball\n",
      "   postgresql://jovyan@127.0.0.1:5432/postgres\n",
      "323 rows affected.\n",
      "Returning data to local variable provided_query\n"
     ]
    }
   ],
   "source": [
    "%%sql provided_query <<\n",
    "SELECT namefirst, namelast, p.playerid, yearid\n",
    "FROM people AS p, (SELECT * FROM halloffame WHERE inducted = 'Y') AS hof \n",
    "WHERE p.playerid = hof.playerid;"
   ]
  },
  {
   "cell_type": "code",
   "execution_count": 167,
   "metadata": {},
   "outputs": [
    {
     "name": "stdout",
     "output_type": "stream",
     "text": [
      "                                                       QUERY PLAN                                                        \r\n",
      "-------------------------------------------------------------------------------------------------------------------------\r\n",
      " Hash Join  (cost=861.83..959.06 rows=323 width=25) (actual time=10.516..11.297 rows=323 loops=1)\r\n",
      "   Hash Cond: ((halloffame.playerid)::text = (p.playerid)::text)\r\n",
      "   ->  Seq Scan on halloffame  (cost=0.00..96.39 rows=323 width=13) (actual time=0.022..0.651 rows=323 loops=1)\r\n",
      "         Filter: ((inducted)::text = 'Y'::text)\r\n",
      "         Rows Removed by Filter: 3868\r\n",
      "   ->  Hash  (cost=619.70..619.70 rows=19370 width=21) (actual time=10.280..10.282 rows=19370 loops=1)\r\n",
      "         Buckets: 32768  Batches: 1  Memory Usage: 1293kB\r\n",
      "         ->  Seq Scan on people p  (cost=0.00..619.70 rows=19370 width=21) (actual time=0.019..5.262 rows=19370 loops=1)\r\n",
      " Planning Time: 1.109 ms\r\n",
      " Execution Time: 11.433 ms\r\n",
      "(10 rows)\r\n",
      "\r\n"
     ]
    }
   ],
   "source": [
    "provided_query_str = \"SELECT namefirst, namelast, p.playerid, yearid FROM people AS p, (SELECT * FROM halloffame WHERE inducted = 'Y') AS hof WHERE hof.inducted = 'Y' AND p.playerid = hof.playerid;\"\n",
    "!psql -h localhost -d baseball -c \"explain analyze $provided_query_str\""
   ]
  },
  {
   "cell_type": "code",
   "execution_count": 168,
   "metadata": {},
   "outputs": [
    {
     "name": "stdout",
     "output_type": "stream",
     "text": [
      "                                                       QUERY PLAN                                                        \r\n",
      "-------------------------------------------------------------------------------------------------------------------------\r\n",
      " Hash Join  (cost=861.83..959.06 rows=323 width=25) (actual time=11.264..11.999 rows=323 loops=1)\r\n",
      "   Hash Cond: ((h.playerid)::text = (p.playerid)::text)\r\n",
      "   ->  Seq Scan on halloffame h  (cost=0.00..96.39 rows=323 width=13) (actual time=0.025..0.610 rows=323 loops=1)\r\n",
      "         Filter: ((inducted)::text = 'Y'::text)\r\n",
      "         Rows Removed by Filter: 3868\r\n",
      "   ->  Hash  (cost=619.70..619.70 rows=19370 width=21) (actual time=10.966..10.967 rows=19370 loops=1)\r\n",
      "         Buckets: 32768  Batches: 1  Memory Usage: 1293kB\r\n",
      "         ->  Seq Scan on people p  (cost=0.00..619.70 rows=19370 width=21) (actual time=0.024..5.434 rows=19370 loops=1)\r\n",
      " Planning Time: 1.152 ms\r\n",
      " Execution Time: 12.153 ms\r\n",
      "(10 rows)\r\n",
      "\r\n"
     ]
    }
   ],
   "source": [
    "inducted_hof_query_str = \"SELECT namefirst, namelast, p.playerid, yearid FROM halloffame as h, People as p WHERE h.playerid = p.playerid AND h.inducted = 'Y';\"\n",
    "!psql -h localhost -d baseball -c \"explain analyze $inducted_hof_query_str\""
   ]
  },
  {
   "cell_type": "code",
   "execution_count": 169,
   "metadata": {},
   "outputs": [],
   "source": [
    "provided_query_cost = 959.06\n",
    "provided_query_timing = 11.474\n",
    "your_query_cost = 959.06\n",
    "your_query_timing = 11.495"
   ]
  },
  {
   "cell_type": "code",
   "execution_count": 170,
   "metadata": {
    "deletable": false,
    "editable": false
   },
   "outputs": [
    {
     "data": {
      "text/html": [
       "<p><strong><pre style='display: inline;'>q1bi</pre></strong> passed!</p>"
      ],
      "text/plain": [
       "q1bi results: All test cases passed!"
      ]
     },
     "execution_count": 170,
     "metadata": {},
     "output_type": "execute_result"
    }
   ],
   "source": [
    "grader.check(\"q1bi\")"
   ]
  },
  {
   "cell_type": "markdown",
   "metadata": {
    "deletable": false,
    "editable": false
   },
   "source": [
    "#### Question 1bii:\n",
    "Given your findings from inspecting the query plans of the two queries, answer the following question. Assign the variable `q1b_part2` to a list of answer choices which are true statements.\n",
    "\n",
    "1. Consider the following statements:\n",
    "    1. Both the queries have the same cost.\n",
    "    1. The provided query has a faster execution time because it makes use of a subquery.\n",
    "    1. The query you wrote has a faster execution time because it does not make use a subquery.\n",
    "    1. The provided query has less cost because it makes use of a subquery.\n",
    "    1. The query you wrote has less cost because it does not make use a subquery.\n",
    "    1. The queries have the same output.\n",
    "    1. The queries do not have the same output.\n",
    "    \n",
    "**Note:** Your answer should look like `q1b_part2 = ['A', 'B']`\n",
    "\n",
    "<!--\n",
    "BEGIN QUESTION\n",
    "name: q1bii\n",
    "points: 2\n",
    "-->"
   ]
  },
  {
   "cell_type": "code",
   "execution_count": 20,
   "metadata": {},
   "outputs": [],
   "source": [
    "q1b_part2 = ['A', 'F']"
   ]
  },
  {
   "cell_type": "code",
   "execution_count": 21,
   "metadata": {
    "deletable": false,
    "editable": false
   },
   "outputs": [
    {
     "data": {
      "text/html": [
       "<p><strong><pre style='display: inline;'>q1bii</pre></strong> passed!</p>"
      ],
      "text/plain": [
       "q1bii results: All test cases passed!"
      ]
     },
     "execution_count": 21,
     "metadata": {},
     "output_type": "execute_result"
    }
   ],
   "source": [
    "grader.check(\"q1bii\")"
   ]
  },
  {
   "cell_type": "markdown",
   "metadata": {},
   "source": [
    "### Question 1c:\n",
    "Write a query that creates a view named `inducted_hof_ca` of the people who were successfully inducted into the Hall of Fame and played in college at a school located in California. For each player, return their `namefirst`, `namelast`, `playerid`, `schoolid`, and `yearid` ordered by the `yearid` and then the `playerid`. \n",
    "\n",
    "**Note**: For this query, `yearid` refers to player's year of induction into the Hall of Fame."
   ]
  },
  {
   "cell_type": "code",
   "execution_count": 22,
   "metadata": {},
   "outputs": [
    {
     "name": "stdout",
     "output_type": "stream",
     "text": [
      " * postgresql://jovyan@127.0.0.1:5432/baseball\n",
      "   postgresql://jovyan@127.0.0.1:5432/postgres\n",
      "3 rows affected.\n"
     ]
    },
    {
     "data": {
      "text/html": [
       "<table>\n",
       "    <tr>\n",
       "        <th>Column</th>\n",
       "        <th>Type</th>\n",
       "        <th>Modifiers</th>\n",
       "    </tr>\n",
       "    <tr>\n",
       "        <td>playerid</td>\n",
       "        <td>character varying(10)</td>\n",
       "        <td> not null</td>\n",
       "    </tr>\n",
       "    <tr>\n",
       "        <td>schoolid</td>\n",
       "        <td>character varying(15)</td>\n",
       "        <td> not null</td>\n",
       "    </tr>\n",
       "    <tr>\n",
       "        <td>yearid</td>\n",
       "        <td>integer</td>\n",
       "        <td> not null</td>\n",
       "    </tr>\n",
       "</table>"
      ],
      "text/plain": [
       "[['playerid', 'character varying(10)', ' not null'],\n",
       " ['schoolid', 'character varying(15)', ' not null'],\n",
       " ['yearid', 'integer', ' not null']]"
      ]
     },
     "execution_count": 22,
     "metadata": {},
     "output_type": "execute_result"
    }
   ],
   "source": [
    "%sql \\d collegeplaying"
   ]
  },
  {
   "cell_type": "code",
   "execution_count": 23,
   "metadata": {},
   "outputs": [
    {
     "name": "stdout",
     "output_type": "stream",
     "text": [
      " * postgresql://jovyan@127.0.0.1:5432/baseball\n",
      "   postgresql://jovyan@127.0.0.1:5432/postgres\n",
      "5 rows affected.\n"
     ]
    },
    {
     "data": {
      "text/html": [
       "<table>\n",
       "    <tr>\n",
       "        <th>playerid</th>\n",
       "        <th>schoolid</th>\n",
       "        <th>yearid</th>\n",
       "    </tr>\n",
       "    <tr>\n",
       "        <td>aardsda01</td>\n",
       "        <td>pennst</td>\n",
       "        <td>2001</td>\n",
       "    </tr>\n",
       "    <tr>\n",
       "        <td>aardsda01</td>\n",
       "        <td>rice</td>\n",
       "        <td>2002</td>\n",
       "    </tr>\n",
       "    <tr>\n",
       "        <td>aardsda01</td>\n",
       "        <td>rice</td>\n",
       "        <td>2003</td>\n",
       "    </tr>\n",
       "    <tr>\n",
       "        <td>abadan01</td>\n",
       "        <td>gamiddl</td>\n",
       "        <td>1992</td>\n",
       "    </tr>\n",
       "    <tr>\n",
       "        <td>abadan01</td>\n",
       "        <td>gamiddl</td>\n",
       "        <td>1993</td>\n",
       "    </tr>\n",
       "</table>"
      ],
      "text/plain": [
       "[('aardsda01', 'pennst', 2001),\n",
       " ('aardsda01', 'rice', 2002),\n",
       " ('aardsda01', 'rice', 2003),\n",
       " ('abadan01', 'gamiddl', 1992),\n",
       " ('abadan01', 'gamiddl', 1993)]"
      ]
     },
     "execution_count": 23,
     "metadata": {},
     "output_type": "execute_result"
    }
   ],
   "source": [
    "%%sql\n",
    "SELECT * FROM collegeplaying LIMIT 5"
   ]
  },
  {
   "cell_type": "code",
   "execution_count": 24,
   "metadata": {},
   "outputs": [
    {
     "name": "stdout",
     "output_type": "stream",
     "text": [
      " * postgresql://jovyan@127.0.0.1:5432/baseball\n",
      "   postgresql://jovyan@127.0.0.1:5432/postgres\n",
      "5 rows affected.\n"
     ]
    },
    {
     "data": {
      "text/html": [
       "<table>\n",
       "    <tr>\n",
       "        <th>schoolid</th>\n",
       "        <th>schoolname</th>\n",
       "        <th>schoolcity</th>\n",
       "        <th>schoolstate</th>\n",
       "        <th>schoolnick</th>\n",
       "    </tr>\n",
       "    <tr>\n",
       "        <td>abilchrist</td>\n",
       "        <td>Abilene Christian University</td>\n",
       "        <td>Abilene</td>\n",
       "        <td>TX</td>\n",
       "        <td>USA</td>\n",
       "    </tr>\n",
       "    <tr>\n",
       "        <td>adelphi</td>\n",
       "        <td>Adelphi University</td>\n",
       "        <td>Garden City</td>\n",
       "        <td>NY</td>\n",
       "        <td>USA</td>\n",
       "    </tr>\n",
       "    <tr>\n",
       "        <td>adrianmi</td>\n",
       "        <td>Adrian College</td>\n",
       "        <td>Adrian</td>\n",
       "        <td>MI</td>\n",
       "        <td>USA</td>\n",
       "    </tr>\n",
       "    <tr>\n",
       "        <td>akron</td>\n",
       "        <td>University of Akron</td>\n",
       "        <td>Akron</td>\n",
       "        <td>OH</td>\n",
       "        <td>USA</td>\n",
       "    </tr>\n",
       "    <tr>\n",
       "        <td>alabama</td>\n",
       "        <td>University of Alabama</td>\n",
       "        <td>Tuscaloosa</td>\n",
       "        <td>AL</td>\n",
       "        <td>USA</td>\n",
       "    </tr>\n",
       "</table>"
      ],
      "text/plain": [
       "[('abilchrist', 'Abilene Christian University', 'Abilene', 'TX', 'USA'),\n",
       " ('adelphi', 'Adelphi University', 'Garden City', 'NY', 'USA'),\n",
       " ('adrianmi', 'Adrian College', 'Adrian', 'MI', 'USA'),\n",
       " ('akron', 'University of Akron', 'Akron', 'OH', 'USA'),\n",
       " ('alabama', 'University of Alabama', 'Tuscaloosa', 'AL', 'USA')]"
      ]
     },
     "execution_count": 24,
     "metadata": {},
     "output_type": "execute_result"
    }
   ],
   "source": [
    "%%sql\n",
    "SELECT * FROM schools LIMIT 5"
   ]
  },
  {
   "cell_type": "code",
   "execution_count": 25,
   "metadata": {},
   "outputs": [
    {
     "name": "stdout",
     "output_type": "stream",
     "text": [
      " * postgresql://jovyan@127.0.0.1:5432/baseball\n",
      "   postgresql://jovyan@127.0.0.1:5432/postgres\n",
      "Done.\n",
      "Done.\n",
      "23 rows affected.\n",
      "Returning data to local variable result_1c\n"
     ]
    }
   ],
   "source": [
    "%%sql result_1c <<\n",
    "DROP VIEW IF EXISTS inducted_hof_ca;\n",
    "CREATE VIEW inducted_hof_ca AS\n",
    "SELECT namefirst, namelast, p.playerid, s.schoolid, h.yearid\n",
    "FROM collegeplaying as c, halloffame as h, People as p, schools as s\n",
    "WHERE h.playerid = p.playerid AND h.playerid = c.playerid AND c.schoolid = s.schoolid AND h.inducted = 'Y' AND s.schoolstate = 'CA'\n",
    "ORDER BY h.yearid;\n",
    "SELECT * FROM inducted_hof_ca;"
   ]
  },
  {
   "cell_type": "code",
   "execution_count": 26,
   "metadata": {},
   "outputs": [],
   "source": [
    "# Do not delete/edit this cell\n",
    "result_1c.DataFrame().sort_values(['playerid', 'schoolid', 'yearid']).to_csv('results/result_1c.csv', index=False)"
   ]
  },
  {
   "cell_type": "code",
   "execution_count": 27,
   "metadata": {
    "deletable": false,
    "editable": false
   },
   "outputs": [
    {
     "data": {
      "text/html": [
       "<p><strong><pre style='display: inline;'>q1c</pre></strong> passed!</p>"
      ],
      "text/plain": [
       "q1c results: All test cases passed!"
      ]
     },
     "execution_count": 27,
     "metadata": {},
     "output_type": "execute_result"
    }
   ],
   "source": [
    "grader.check(\"q1c\")"
   ]
  },
  {
   "cell_type": "markdown",
   "metadata": {},
   "source": [
    "### Question 1d:\n",
    "For this question, we want to compute the count of players who were inducted into the Hall of Fame and played baseball at a college in California for each `schoolid` and `yearid` combination ordered by ascending `yearid`.\n",
    "\n",
    "#### Question 1di:\n",
    "Write two queries that accomplish this task -- one query using the view you created in the `Question 1c` and one query that does not use the view, common table expressions (CTEs), or any sub-queries."
   ]
  },
  {
   "cell_type": "code",
   "execution_count": 28,
   "metadata": {},
   "outputs": [
    {
     "name": "stdout",
     "output_type": "stream",
     "text": [
      " * postgresql://jovyan@127.0.0.1:5432/baseball\n",
      "   postgresql://jovyan@127.0.0.1:5432/postgres\n",
      "13 rows affected.\n",
      "Returning data to local variable with_view\n"
     ]
    }
   ],
   "source": [
    "%%sql with_view <<\n",
    "SELECT schoolid, yearid, COUNT(*) FROM inducted_hof_ca\n",
    "GROUP BY schoolid, yearid\n",
    "ORDER BY yearid"
   ]
  },
  {
   "cell_type": "code",
   "execution_count": 29,
   "metadata": {},
   "outputs": [
    {
     "name": "stdout",
     "output_type": "stream",
     "text": [
      " * postgresql://jovyan@127.0.0.1:5432/baseball\n",
      "   postgresql://jovyan@127.0.0.1:5432/postgres\n",
      "13 rows affected.\n",
      "Returning data to local variable without_view\n"
     ]
    }
   ],
   "source": [
    "%%sql without_view <<\n",
    "SELECT s.schoolid, h.yearid, COUNT(*)\n",
    "FROM collegeplaying as c, halloffame as h, People as p, schools as s\n",
    "WHERE h.playerid = p.playerid AND h.playerid = c.playerid AND c.schoolid = s.schoolid AND h.inducted = 'Y' AND s.schoolstate = 'CA'\n",
    "GROUP BY s.schoolid, h.yearid\n",
    "ORDER BY h.yearid;"
   ]
  },
  {
   "cell_type": "code",
   "execution_count": 30,
   "metadata": {},
   "outputs": [],
   "source": [
    "# Do not delete/edit this cell\n",
    "with_view.DataFrame().sort_values(['schoolid', 'yearid']).to_csv('results/result_1di_view.csv', index=False)\n",
    "without_view.DataFrame().sort_values(['schoolid', 'yearid']).to_csv('results/result_1di_no_view.csv', index=False)"
   ]
  },
  {
   "cell_type": "code",
   "execution_count": 31,
   "metadata": {
    "deletable": false,
    "editable": false
   },
   "outputs": [
    {
     "data": {
      "text/html": [
       "<p><strong><pre style='display: inline;'>q1di</pre></strong> passed!</p>"
      ],
      "text/plain": [
       "q1di results: All test cases passed!"
      ]
     },
     "execution_count": 31,
     "metadata": {},
     "output_type": "execute_result"
    }
   ],
   "source": [
    "grader.check(\"q1di\")"
   ]
  },
  {
   "cell_type": "markdown",
   "metadata": {},
   "source": [
    "#### Question 1dii:\n",
    "Fill in your queries from `Question 1di` and inspect the query plans for the two queries. Record the execution time and cost for each query."
   ]
  },
  {
   "cell_type": "code",
   "execution_count": 32,
   "metadata": {},
   "outputs": [
    {
     "name": "stdout",
     "output_type": "stream",
     "text": [
      "                                                                             QUERY PLAN                                                                              \r\n",
      "---------------------------------------------------------------------------------------------------------------------------------------------------------------------\r\n",
      " GroupAggregate  (cost=525.47..527.39 rows=96 width=20) (actual time=6.237..6.250 rows=13 loops=1)\r\n",
      "   Group Key: inducted_hof_ca.yearid, inducted_hof_ca.schoolid\r\n",
      "   ->  Sort  (cost=525.47..525.71 rows=96 width=12) (actual time=6.228..6.233 rows=23 loops=1)\r\n",
      "         Sort Key: inducted_hof_ca.yearid, inducted_hof_ca.schoolid\r\n",
      "         Sort Method: quicksort  Memory: 26kB\r\n",
      "         ->  Subquery Scan on inducted_hof_ca  (cost=521.11..522.31 rows=96 width=12) (actual time=6.179..6.188 rows=23 loops=1)\r\n",
      "               ->  Sort  (cost=521.11..521.35 rows=96 width=286) (actual time=6.177..6.183 rows=23 loops=1)\r\n",
      "                     Sort Key: h.yearid\r\n",
      "                     Sort Method: quicksort  Memory: 26kB\r\n",
      "                     ->  Nested Loop  (cost=386.71..517.95 rows=96 width=286) (actual time=5.359..6.152 rows=23 loops=1)\r\n",
      "                           Join Filter: ((h.playerid)::text = (p.playerid)::text)\r\n",
      "                           ->  Hash Join  (cost=386.42..485.79 rows=96 width=30) (actual time=5.321..5.811 rows=23 loops=1)\r\n",
      "                                 Hash Cond: ((h.playerid)::text = (c.playerid)::text)\r\n",
      "                                 ->  Seq Scan on halloffame h  (cost=0.00..96.39 rows=323 width=13) (actual time=0.029..0.741 rows=323 loops=1)\r\n",
      "                                       Filter: ((inducted)::text = 'Y'::text)\r\n",
      "                                       Rows Removed by Filter: 3868\r\n",
      "                                 ->  Hash  (cost=361.99..361.99 rows=1955 width=17) (actual time=4.962..4.965 rows=2948 loops=1)\r\n",
      "                                       Buckets: 4096 (originally 2048)  Batches: 1 (originally 1)  Memory Usage: 178kB\r\n",
      "                                       ->  Hash Join  (cost=29.79..361.99 rows=1955 width=17) (actual time=0.241..4.153 rows=2948 loops=1)\r\n",
      "                                             Hash Cond: ((c.schoolid)::text = (s.schoolid)::text)\r\n",
      "                                             ->  Seq Scan on collegeplaying c  (cost=0.00..286.50 rows=17350 width=17) (actual time=0.018..1.391 rows=17350 loops=1)\r\n",
      "                                             ->  Hash  (cost=28.09..28.09 rows=136 width=8) (actual time=0.200..0.201 rows=136 loops=1)\r\n",
      "                                                   Buckets: 1024  Batches: 1  Memory Usage: 14kB\r\n",
      "                                                   ->  Seq Scan on schools s  (cost=0.00..28.09 rows=136 width=8) (actual time=0.018..0.165 rows=136 loops=1)\r\n",
      "                                                         Filter: ((schoolstate)::text = 'CA'::text)\r\n",
      "                                                         Rows Removed by Filter: 1071\r\n",
      "                           ->  Index Only Scan using master_pkey on people p  (cost=0.29..0.32 rows=1 width=9) (actual time=0.013..0.013 rows=1 loops=23)\r\n",
      "                                 Index Cond: (playerid = (c.playerid)::text)\r\n",
      "                                 Heap Fetches: 0\r\n",
      " Planning Time: 2.520 ms\r\n",
      " Execution Time: 6.486 ms\r\n",
      "(31 rows)\r\n",
      "\r\n"
     ]
    }
   ],
   "source": [
    "with_view_query_str = \"SELECT schoolid, yearid, COUNT(*) FROM inducted_hof_ca GROUP BY schoolid, yearid ORDER BY yearid\"\n",
    "!psql -h localhost -d baseball -c \"explain analyze $with_view_query_str\""
   ]
  },
  {
   "cell_type": "code",
   "execution_count": 33,
   "metadata": {},
   "outputs": [
    {
     "name": "stdout",
     "output_type": "stream",
     "text": [
      "                                                                       QUERY PLAN                                                                        \r\n",
      "---------------------------------------------------------------------------------------------------------------------------------------------------------\r\n",
      " GroupAggregate  (cost=521.11..523.03 rows=96 width=20) (actual time=5.714..5.726 rows=13 loops=1)\r\n",
      "   Group Key: h.yearid, s.schoolid\r\n",
      "   ->  Sort  (cost=521.11..521.35 rows=96 width=12) (actual time=5.707..5.711 rows=23 loops=1)\r\n",
      "         Sort Key: h.yearid, s.schoolid\r\n",
      "         Sort Method: quicksort  Memory: 26kB\r\n",
      "         ->  Nested Loop  (cost=386.71..517.95 rows=96 width=12) (actual time=5.198..5.647 rows=23 loops=1)\r\n",
      "               Join Filter: ((h.playerid)::text = (p.playerid)::text)\r\n",
      "               ->  Hash Join  (cost=386.42..485.79 rows=96 width=30) (actual time=5.165..5.519 rows=23 loops=1)\r\n",
      "                     Hash Cond: ((h.playerid)::text = (c.playerid)::text)\r\n",
      "                     ->  Seq Scan on halloffame h  (cost=0.00..96.39 rows=323 width=13) (actual time=0.023..0.603 rows=323 loops=1)\r\n",
      "                           Filter: ((inducted)::text = 'Y'::text)\r\n",
      "                           Rows Removed by Filter: 3868\r\n",
      "                     ->  Hash  (cost=361.99..361.99 rows=1955 width=17) (actual time=4.853..4.855 rows=2948 loops=1)\r\n",
      "                           Buckets: 4096 (originally 2048)  Batches: 1 (originally 1)  Memory Usage: 178kB\r\n",
      "                           ->  Hash Join  (cost=29.79..361.99 rows=1955 width=17) (actual time=0.241..4.067 rows=2948 loops=1)\r\n",
      "                                 Hash Cond: ((c.schoolid)::text = (s.schoolid)::text)\r\n",
      "                                 ->  Seq Scan on collegeplaying c  (cost=0.00..286.50 rows=17350 width=17) (actual time=0.018..1.359 rows=17350 loops=1)\r\n",
      "                                 ->  Hash  (cost=28.09..28.09 rows=136 width=8) (actual time=0.202..0.203 rows=136 loops=1)\r\n",
      "                                       Buckets: 1024  Batches: 1  Memory Usage: 14kB\r\n",
      "                                       ->  Seq Scan on schools s  (cost=0.00..28.09 rows=136 width=8) (actual time=0.013..0.171 rows=136 loops=1)\r\n",
      "                                             Filter: ((schoolstate)::text = 'CA'::text)\r\n",
      "                                             Rows Removed by Filter: 1071\r\n",
      "               ->  Index Only Scan using master_pkey on people p  (cost=0.29..0.32 rows=1 width=9) (actual time=0.005..0.005 rows=1 loops=23)\r\n",
      "                     Index Cond: (playerid = (c.playerid)::text)\r\n",
      "                     Heap Fetches: 0\r\n",
      " Planning Time: 2.306 ms\r\n",
      " Execution Time: 5.918 ms\r\n",
      "(27 rows)\r\n",
      "\r\n"
     ]
    }
   ],
   "source": [
    "without_view_query_str = \"SELECT s.schoolid, h.yearid, COUNT(*) FROM collegeplaying as c, halloffame as h, People as p, schools as s WHERE h.playerid = p.playerid AND h.playerid = c.playerid AND c.schoolid = s.schoolid AND h.inducted = 'Y' AND s.schoolstate = 'CA' \\\n",
    "GROUP BY s.schoolid, h.yearid ORDER BY h.yearid;\"\n",
    "!psql -h localhost -d baseball -c\"explain analyze $without_view_query_str\""
   ]
  },
  {
   "cell_type": "code",
   "execution_count": 34,
   "metadata": {},
   "outputs": [],
   "source": [
    "with_view_cost = 527.39\n",
    "with_view_timing = 5.999\n",
    "without_view_cost = 523.03\n",
    "without_view_timing = 5.906"
   ]
  },
  {
   "cell_type": "code",
   "execution_count": 35,
   "metadata": {
    "deletable": false,
    "editable": false
   },
   "outputs": [
    {
     "data": {
      "text/html": [
       "<p><strong><pre style='display: inline;'>q1dii</pre></strong> passed!</p>"
      ],
      "text/plain": [
       "q1dii results: All test cases passed!"
      ]
     },
     "execution_count": 35,
     "metadata": {},
     "output_type": "execute_result"
    }
   ],
   "source": [
    "grader.check(\"q1dii\")"
   ]
  },
  {
   "cell_type": "markdown",
   "metadata": {},
   "source": [
    "### Question 1e:\n",
    "#### Question 1ei:\n",
    "Now, let's try creating a materialized view named `inducted_hof_ca_mat` instead of the regular view from `Question 1c`."
   ]
  },
  {
   "cell_type": "code",
   "execution_count": 36,
   "metadata": {},
   "outputs": [
    {
     "name": "stdout",
     "output_type": "stream",
     "text": [
      " * postgresql://jovyan@127.0.0.1:5432/baseball\n",
      "   postgresql://jovyan@127.0.0.1:5432/postgres\n",
      "Done.\n",
      "23 rows affected.\n",
      "23 rows affected.\n",
      "Returning data to local variable inducted_hof_ca_materialized\n"
     ]
    }
   ],
   "source": [
    "%%sql inducted_hof_ca_materialized <<\n",
    "DROP MATERIALIZED VIEW IF EXISTS inducted_hof_ca_mat;\n",
    "CREATE MATERIALIZED VIEW inducted_hof_ca_mat AS\n",
    "SELECT namefirst, namelast, p.playerid, s.schoolid, h.yearid\n",
    "FROM collegeplaying as c, halloffame as h, People as p, schools as s\n",
    "WHERE h.playerid = p.playerid AND h.playerid = c.playerid AND c.schoolid = s.schoolid AND h.inducted = 'Y' AND s.schoolstate = 'CA'\n",
    "ORDER BY h.yearid;\n",
    "SELECT * FROM inducted_hof_ca_mat;"
   ]
  },
  {
   "cell_type": "code",
   "execution_count": 37,
   "metadata": {},
   "outputs": [],
   "source": [
    "# Do not delete/edit this cell\n",
    "inducted_hof_ca_materialized.DataFrame().sort_values(['playerid', 'schoolid', 'yearid']).to_csv('results/result_1ei.csv', index=False)"
   ]
  },
  {
   "cell_type": "code",
   "execution_count": 38,
   "metadata": {
    "deletable": false,
    "editable": false
   },
   "outputs": [
    {
     "data": {
      "text/html": [
       "<p><strong><pre style='display: inline;'>q1ei</pre></strong> passed!</p>"
      ],
      "text/plain": [
       "q1ei results: All test cases passed!"
      ]
     },
     "execution_count": 38,
     "metadata": {},
     "output_type": "execute_result"
    }
   ],
   "source": [
    "grader.check(\"q1ei\")"
   ]
  },
  {
   "cell_type": "markdown",
   "metadata": {},
   "source": [
    "#### Question 1eii:\n",
    "\n",
    "Now, rewrite the query from `Question 1d` to use the materialized view `inducted_hof_ca_mat`."
   ]
  },
  {
   "cell_type": "code",
   "execution_count": 39,
   "metadata": {},
   "outputs": [
    {
     "name": "stdout",
     "output_type": "stream",
     "text": [
      " * postgresql://jovyan@127.0.0.1:5432/baseball\n",
      "   postgresql://jovyan@127.0.0.1:5432/postgres\n",
      "13 rows affected.\n",
      "Returning data to local variable with_materialized_view\n"
     ]
    }
   ],
   "source": [
    "%%sql with_materialized_view <<\n",
    "SELECT schoolid, yearid, COUNT(*) FROM inducted_hof_ca_mat\n",
    "GROUP BY schoolid, yearid\n",
    "ORDER BY yearid"
   ]
  },
  {
   "cell_type": "code",
   "execution_count": 40,
   "metadata": {},
   "outputs": [],
   "source": [
    "# Do not delete/edit this cell\n",
    "with_materialized_view.DataFrame().sort_values(['schoolid', 'yearid']).to_csv('results/result_1eii.csv', index=False)"
   ]
  },
  {
   "cell_type": "code",
   "execution_count": 41,
   "metadata": {
    "deletable": false,
    "editable": false
   },
   "outputs": [
    {
     "data": {
      "text/html": [
       "<p><strong><pre style='display: inline;'>q1eii</pre></strong> passed!</p>"
      ],
      "text/plain": [
       "q1eii results: All test cases passed!"
      ]
     },
     "execution_count": 41,
     "metadata": {},
     "output_type": "execute_result"
    }
   ],
   "source": [
    "grader.check(\"q1eii\")"
   ]
  },
  {
   "cell_type": "markdown",
   "metadata": {},
   "source": [
    "#### Question 1eiii:\n",
    "Inspect the query plan and record the execution time and cost of the query that uses the materialized view."
   ]
  },
  {
   "cell_type": "code",
   "execution_count": 42,
   "metadata": {},
   "outputs": [
    {
     "name": "stdout",
     "output_type": "stream",
     "text": [
      "                                                          QUERY PLAN                                                          \r\n",
      "------------------------------------------------------------------------------------------------------------------------------\r\n",
      " Sort  (cost=23.67..24.17 rows=200 width=60) (actual time=0.068..0.070 rows=13 loops=1)\r\n",
      "   Sort Key: yearid\r\n",
      "   Sort Method: quicksort  Memory: 25kB\r\n",
      "   ->  HashAggregate  (cost=14.03..16.02 rows=200 width=60) (actual time=0.024..0.028 rows=13 loops=1)\r\n",
      "         Group Key: yearid, schoolid\r\n",
      "         Batches: 1  Memory Usage: 40kB\r\n",
      "         ->  Seq Scan on inducted_hof_ca_mat  (cost=0.00..12.30 rows=230 width=52) (actual time=0.005..0.007 rows=23 loops=1)\r\n",
      " Planning Time: 0.398 ms\r\n",
      " Execution Time: 0.191 ms\r\n",
      "(9 rows)\r\n",
      "\r\n"
     ]
    }
   ],
   "source": [
    "with_materialized_view_query_str = \"SELECT schoolid, yearid, COUNT(*) FROM inducted_hof_ca_mat \\\n",
    "GROUP BY schoolid, yearid \\\n",
    "ORDER BY yearid\"\n",
    "!psql -h localhost -d baseball -c \"explain analyze $with_materialized_view_query_str\""
   ]
  },
  {
   "cell_type": "code",
   "execution_count": 43,
   "metadata": {},
   "outputs": [],
   "source": [
    "with_materialized_view_cost = 24.17\n",
    "with_materialized_view_timing = 0.197"
   ]
  },
  {
   "cell_type": "code",
   "execution_count": 44,
   "metadata": {
    "deletable": false,
    "editable": false
   },
   "outputs": [
    {
     "data": {
      "text/html": [
       "<p><strong><pre style='display: inline;'>q1eiii</pre></strong> passed!</p>"
      ],
      "text/plain": [
       "q1eiii results: All test cases passed!"
      ]
     },
     "execution_count": 44,
     "metadata": {},
     "output_type": "execute_result"
    }
   ],
   "source": [
    "grader.check(\"q1eiii\")"
   ]
  },
  {
   "cell_type": "markdown",
   "metadata": {
    "deletable": false,
    "editable": false
   },
   "source": [
    "#### Question 1eiv:\n",
    "Given your findings from inspecting the query plans, as well as your understanding of views and materialized views from lectures, answer the following question. Assign the variable `q1e_part4` to a list of all statements which are true.\n",
    "\n",
    "1. Consider the following statements:\n",
    "    1. Views will reduce the execution time and the cost of a query.\n",
    "    1. Views will reduce the execution time of a query, but not the cost.\n",
    "    1. Views will reduce the cost of a query, but not the execution time.\n",
    "    1. Materialized views reduce the execution time and the cost of a query.\n",
    "    1. Materialized views reduce the execution time, but not cost of a query.\n",
    "    1. Materialized views reduce the cost of a query, but not the execution time.\n",
    "    1. Materialized views will result in the same query plan as a query using views.\n",
    "    1. Materialized views and views take the same time to create.\n",
    "    1. Materialized views take less time to create than a view.\n",
    "    1. Materialized views take more time to create than a view.\n",
    "    \n",
    "*Note:* Your answer should look like `q1e_part4 = ['A', 'B']`\n",
    "\n",
    "<!--\n",
    "BEGIN QUESTION\n",
    "name: q1eiv\n",
    "points: 2\n",
    "-->"
   ]
  },
  {
   "cell_type": "code",
   "execution_count": 45,
   "metadata": {},
   "outputs": [],
   "source": [
    "q1e_part4 = ['D', 'J']"
   ]
  },
  {
   "cell_type": "code",
   "execution_count": 46,
   "metadata": {
    "deletable": false,
    "editable": false
   },
   "outputs": [
    {
     "data": {
      "text/html": [
       "<p><strong><pre style='display: inline;'>q1eiv</pre></strong> passed!</p>"
      ],
      "text/plain": [
       "q1eiv results: All test cases passed!"
      ]
     },
     "execution_count": 46,
     "metadata": {},
     "output_type": "execute_result"
    }
   ],
   "source": [
    "grader.check(\"q1eiv\")"
   ]
  },
  {
   "cell_type": "markdown",
   "metadata": {
    "deletable": false,
    "editable": false
   },
   "source": [
    "<!-- BEGIN QUESTION -->\n",
    "\n",
    "#### Question 1ev:\n",
    "\n",
    "Explain your answer to the previous part based on your knowledge from lectures, and details from the query plans (your explanation should include why you didn't choose certain options).\n",
    "\n",
    "<!--\n",
    "BEGIN QUESTION\n",
    "name: q1ev\n",
    "manual: true\n",
    "points: 2\n",
    "-->"
   ]
  },
  {
   "cell_type": "markdown",
   "metadata": {},
   "source": [
    "The MV is faster than View because MV is stored on the disk. So, Choose D and J that MV has a lower cost and execution time, but more time to create (MV should be cached when created but Views are computed on demand). And therefore, their query plan is different that Views have to merge and calculate a bunch of stuff but MV just executes order by and group by, so not choose G."
   ]
  },
  {
   "cell_type": "markdown",
   "metadata": {},
   "source": [
    "<!-- END QUESTION -->\n",
    "\n",
    "\n",
    "\n",
    "## Question 2: Predicate Pushdown\n",
    "In this question, we will explore the impact of predicates on a query's execution, particularly inspecting when the optimizer applies predicates.\n",
    "\n",
    "### Question 2a:\n",
    "Recall the `inducted_hof_ca` created in `Question 1c`. Inspect the query plan for a query that that gets all rows from the view, and record the execution time and cost."
   ]
  },
  {
   "cell_type": "code",
   "execution_count": 47,
   "metadata": {},
   "outputs": [
    {
     "name": "stdout",
     "output_type": "stream",
     "text": [
      "                                                                    QUERY PLAN                                                                     \r\n",
      "---------------------------------------------------------------------------------------------------------------------------------------------------\r\n",
      " Sort  (cost=530.54..530.78 rows=96 width=33) (actual time=6.139..6.145 rows=23 loops=1)\r\n",
      "   Sort Key: h.yearid\r\n",
      "   Sort Method: quicksort  Memory: 26kB\r\n",
      "   ->  Nested Loop  (cost=386.71..527.38 rows=96 width=33) (actual time=5.519..6.101 rows=23 loops=1)\r\n",
      "         Join Filter: ((h.playerid)::text = (p.playerid)::text)\r\n",
      "         ->  Hash Join  (cost=386.42..485.79 rows=96 width=30) (actual time=5.457..5.824 rows=23 loops=1)\r\n",
      "               Hash Cond: ((h.playerid)::text = (c.playerid)::text)\r\n",
      "               ->  Seq Scan on halloffame h  (cost=0.00..96.39 rows=323 width=13) (actual time=0.029..0.615 rows=323 loops=1)\r\n",
      "                     Filter: ((inducted)::text = 'Y'::text)\r\n",
      "                     Rows Removed by Filter: 3868\r\n",
      "               ->  Hash  (cost=361.99..361.99 rows=1955 width=17) (actual time=5.148..5.150 rows=2948 loops=1)\r\n",
      "                     Buckets: 4096 (originally 2048)  Batches: 1 (originally 1)  Memory Usage: 178kB\r\n",
      "                     ->  Hash Join  (cost=29.79..361.99 rows=1955 width=17) (actual time=0.250..4.293 rows=2948 loops=1)\r\n",
      "                           Hash Cond: ((c.schoolid)::text = (s.schoolid)::text)\r\n",
      "                           ->  Seq Scan on collegeplaying c  (cost=0.00..286.50 rows=17350 width=17) (actual time=0.019..1.484 rows=17350 loops=1)\r\n",
      "                           ->  Hash  (cost=28.09..28.09 rows=136 width=8) (actual time=0.207..0.208 rows=136 loops=1)\r\n",
      "                                 Buckets: 1024  Batches: 1  Memory Usage: 14kB\r\n",
      "                                 ->  Seq Scan on schools s  (cost=0.00..28.09 rows=136 width=8) (actual time=0.012..0.166 rows=136 loops=1)\r\n",
      "                                       Filter: ((schoolstate)::text = 'CA'::text)\r\n",
      "                                       Rows Removed by Filter: 1071\r\n",
      "         ->  Index Scan using master_pkey on people p  (cost=0.29..0.42 rows=1 width=21) (actual time=0.011..0.011 rows=1 loops=23)\r\n",
      "               Index Cond: ((playerid)::text = (c.playerid)::text)\r\n",
      " Planning Time: 2.788 ms\r\n",
      " Execution Time: 6.341 ms\r\n",
      "(24 rows)\r\n",
      "\r\n"
     ]
    }
   ],
   "source": [
    "query_view_str = \"SELECT * FROM inducted_hof_ca\"\n",
    "!psql -h localhost -d baseball -c \"explain analyze $query_view_str\""
   ]
  },
  {
   "cell_type": "code",
   "execution_count": 48,
   "metadata": {},
   "outputs": [],
   "source": [
    "query_view_cost = 530.78\n",
    "query_view_timing = 7.133"
   ]
  },
  {
   "cell_type": "code",
   "execution_count": 49,
   "metadata": {
    "deletable": false,
    "editable": false
   },
   "outputs": [
    {
     "data": {
      "text/html": [
       "<p><strong><pre style='display: inline;'>q2a</pre></strong> passed!</p>"
      ],
      "text/plain": [
       "q2a results: All test cases passed!"
      ]
     },
     "execution_count": 49,
     "metadata": {},
     "output_type": "execute_result"
    }
   ],
   "source": [
    "grader.check(\"q2a\")"
   ]
  },
  {
   "cell_type": "markdown",
   "metadata": {},
   "source": [
    "### Question 2b:\n",
    "Now, add a filter to only return rows from `inducted_hof_ca` where the year is later than 2010. Inspect the query plan and record the execution time and cost."
   ]
  },
  {
   "cell_type": "code",
   "execution_count": 50,
   "metadata": {},
   "outputs": [
    {
     "name": "stdout",
     "output_type": "stream",
     "text": [
      " * postgresql://jovyan@127.0.0.1:5432/baseball\n",
      "   postgresql://jovyan@127.0.0.1:5432/postgres\n",
      "8 rows affected.\n",
      "Returning data to local variable result_2b\n"
     ]
    }
   ],
   "source": [
    "%%sql result_2b <<\n",
    "SELECT * FROM inducted_hof_ca\n",
    "WHERE yearid > 2010"
   ]
  },
  {
   "cell_type": "code",
   "execution_count": 51,
   "metadata": {
    "scrolled": true
   },
   "outputs": [
    {
     "name": "stdout",
     "output_type": "stream",
     "text": [
      "                                                                             QUERY PLAN                                                                              \r\n",
      "---------------------------------------------------------------------------------------------------------------------------------------------------------------------\r\n",
      " Sort  (cost=209.92..209.93 rows=6 width=33) (actual time=0.982..0.984 rows=8 loops=1)\r\n",
      "   Sort Key: h.yearid\r\n",
      "   Sort Method: quicksort  Memory: 25kB\r\n",
      "   ->  Nested Loop  (cost=0.85..209.84 rows=6 width=33) (actual time=0.582..0.950 rows=8 loops=1)\r\n",
      "         Join Filter: ((h.playerid)::text = (p.playerid)::text)\r\n",
      "         ->  Nested Loop  (cost=0.56..207.24 rows=6 width=30) (actual time=0.544..0.858 rows=8 loops=1)\r\n",
      "               ->  Nested Loop  (cost=0.29..190.63 rows=55 width=30) (actual time=0.528..0.746 rows=27 loops=1)\r\n",
      "                     ->  Seq Scan on halloffame h  (cost=0.00..106.86 rows=21 width=13) (actual time=0.491..0.536 rows=31 loops=1)\r\n",
      "                           Filter: ((yearid > 2010) AND ((inducted)::text = 'Y'::text))\r\n",
      "                           Rows Removed by Filter: 4160\r\n",
      "                     ->  Index Only Scan using collegeplaying_pkey on collegeplaying c  (cost=0.29..3.96 rows=3 width=17) (actual time=0.006..0.006 rows=1 loops=31)\r\n",
      "                           Index Cond: (playerid = (h.playerid)::text)\r\n",
      "                           Heap Fetches: 0\r\n",
      "               ->  Index Scan using schools_pkey on schools s  (cost=0.28..0.30 rows=1 width=8) (actual time=0.004..0.004 rows=0 loops=27)\r\n",
      "                     Index Cond: ((schoolid)::text = (c.schoolid)::text)\r\n",
      "                     Filter: ((schoolstate)::text = 'CA'::text)\r\n",
      "                     Rows Removed by Filter: 1\r\n",
      "         ->  Index Scan using master_pkey on people p  (cost=0.29..0.42 rows=1 width=21) (actual time=0.010..0.010 rows=1 loops=8)\r\n",
      "               Index Cond: ((playerid)::text = (c.playerid)::text)\r\n",
      " Planning Time: 2.653 ms\r\n",
      " Execution Time: 1.145 ms\r\n",
      "(21 rows)\r\n",
      "\r\n"
     ]
    }
   ],
   "source": [
    "query_view_with_filter_str = \"SELECT * FROM inducted_hof_ca WHERE yearid > 2010\"\n",
    "!psql -h localhost -d baseball -c \"explain analyze $query_view_with_filter_str\""
   ]
  },
  {
   "cell_type": "code",
   "execution_count": 52,
   "metadata": {},
   "outputs": [],
   "source": [
    "query_view_with_filter_cost = 209.93\n",
    "query_view_with_filter_timing = 1.051"
   ]
  },
  {
   "cell_type": "code",
   "execution_count": 53,
   "metadata": {
    "deletable": false,
    "editable": false
   },
   "outputs": [
    {
     "data": {
      "text/html": [
       "<p><strong><pre style='display: inline;'>q2b</pre></strong> passed!</p>"
      ],
      "text/plain": [
       "q2b results: All test cases passed!"
      ]
     },
     "execution_count": 53,
     "metadata": {},
     "output_type": "execute_result"
    }
   ],
   "source": [
    "grader.check(\"q2b\")"
   ]
  },
  {
   "cell_type": "markdown",
   "metadata": {
    "deletable": false,
    "editable": false
   },
   "source": [
    "### Question 2c:\n",
    "Given your findings from inspecting the query plans of queries from `Question 2a-b`, answer the following question. Assign the variable `q2c` to a list of all statements which are true.\n",
    "\n",
    "1. Consider the following statements:\n",
    "    1. Adding a filter lowered the cost.\n",
    "    1. Adding a filter increased the cost.\n",
    "    1. Adding a filter did not change the cost.\n",
    "    1. Adding a filter increased the execution time.\n",
    "    1. Adding a filter decreased the execution time.\n",
    "    1. Adding a filter did not change the execution time.\n",
    "    1. No statement is true.\n",
    "    \n",
    "    \n",
    "**Note:** Your answer should look like `q2c = ['A', 'B']`\n",
    "\n",
    "<!--\n",
    "BEGIN QUESTION\n",
    "name: q2c\n",
    "points: 2\n",
    "-->"
   ]
  },
  {
   "cell_type": "code",
   "execution_count": 54,
   "metadata": {},
   "outputs": [],
   "source": [
    "q2c = ['A', 'E']"
   ]
  },
  {
   "cell_type": "code",
   "execution_count": 55,
   "metadata": {
    "deletable": false,
    "editable": false
   },
   "outputs": [
    {
     "data": {
      "text/html": [
       "<p><strong><pre style='display: inline;'>q2c</pre></strong> passed!</p>"
      ],
      "text/plain": [
       "q2c results: All test cases passed!"
      ]
     },
     "execution_count": 55,
     "metadata": {},
     "output_type": "execute_result"
    }
   ],
   "source": [
    "grader.check(\"q2c\")"
   ]
  },
  {
   "cell_type": "markdown",
   "metadata": {
    "deletable": false,
    "editable": false
   },
   "source": [
    "<!-- BEGIN QUESTION -->\n",
    "\n",
    "#### Question 2d:\n",
    "\n",
    "Explain your answer based on your knowledge from lectures, and details from the query plans (your explanation should include why you didn't choose certain options).\n",
    "\n",
    "<!--\n",
    "BEGIN QUESTION\n",
    "name: q2d\n",
    "manual: true\n",
    "points: 2\n",
    "-->"
   ]
  },
  {
   "cell_type": "markdown",
   "metadata": {},
   "source": [
    "Adding a filter reduce the pages that need to be read by the system, so it lowers the cost and excutive time."
   ]
  },
  {
   "cell_type": "markdown",
   "metadata": {},
   "source": [
    "<!-- END QUESTION -->\n",
    "\n",
    "\n",
    "\n",
    "## Question 3: Join Approaches\n",
    "\n",
    "In this question, we'll explore different join approaches (Nested Loop Join, Merge Join, Hash Join) and discuss how the query optimizer picks the best approach.\n",
    "\n",
    "### Question 3a:\n",
    "Perform an inner join on the `people` and `collegeplaying` tables on the `playerid` column. Project all columns."
   ]
  },
  {
   "cell_type": "code",
   "execution_count": 56,
   "metadata": {},
   "outputs": [
    {
     "name": "stdout",
     "output_type": "stream",
     "text": [
      " * postgresql://jovyan@127.0.0.1:5432/baseball\n",
      "   postgresql://jovyan@127.0.0.1:5432/postgres\n",
      "17350 rows affected.\n",
      "Returning data to local variable q3a_join\n"
     ]
    }
   ],
   "source": [
    "%%sql q3a_join <<\n",
    "SELECT * FROM people p, collegeplaying c\n",
    "WHERE p.playerid = c.playerid"
   ]
  },
  {
   "cell_type": "markdown",
   "metadata": {},
   "source": [
    "Inspect the query plan for the query you wrote above."
   ]
  },
  {
   "cell_type": "code",
   "execution_count": 57,
   "metadata": {},
   "outputs": [
    {
     "name": "stdout",
     "output_type": "stream",
     "text": [
      "                                                        QUERY PLAN                                                         \r\n",
      "---------------------------------------------------------------------------------------------------------------------------\r\n",
      " Hash Join  (cost=861.83..1193.88 rows=17350 width=167) (actual time=9.524..19.935 rows=17350 loops=1)\r\n",
      "   Hash Cond: ((c.playerid)::text = (p.playerid)::text)\r\n",
      "   ->  Seq Scan on collegeplaying c  (cost=0.00..286.50 rows=17350 width=21) (actual time=0.025..1.469 rows=17350 loops=1)\r\n",
      "   ->  Hash  (cost=619.70..619.70 rows=19370 width=146) (actual time=9.257..9.260 rows=19370 loops=1)\r\n",
      "         Buckets: 32768  Batches: 1  Memory Usage: 3633kB\r\n",
      "         ->  Seq Scan on people p  (cost=0.00..619.70 rows=19370 width=146) (actual time=0.026..2.557 rows=19370 loops=1)\r\n",
      " Planning Time: 1.293 ms\r\n",
      " Execution Time: 20.739 ms\r\n",
      "(8 rows)\r\n",
      "\r\n"
     ]
    }
   ],
   "source": [
    "q3a_query_str = 'SELECT * FROM people p, collegeplaying c WHERE p.playerid = c.playerid'\n",
    "!psql -h localhost -d baseball -c \"explain analyze $q3a_query_str\""
   ]
  },
  {
   "cell_type": "markdown",
   "metadata": {
    "deletable": false,
    "editable": false
   },
   "source": [
    "Given your findings from inspecting the query plan, answer the following question. Assign the variable `q3a` to a list of all the options which are true for the proposed statement.\n",
    "\n",
    "1. Which join approach did the query optimizer choose?\n",
    "    1. Nested Loop Join\n",
    "    1. Merge Join\n",
    "    1. Hash Join\n",
    "    1. None of the Above\n",
    "\n",
    "**Note:** Your answer should be formatted as follows: `q3a = ['A', 'B']`\n",
    "\n",
    "<!--\n",
    "BEGIN QUESTION\n",
    "name: q3a\n",
    "points: 1\n",
    "-->"
   ]
  },
  {
   "cell_type": "code",
   "execution_count": 58,
   "metadata": {},
   "outputs": [],
   "source": [
    "q3a = ['C']"
   ]
  },
  {
   "cell_type": "code",
   "execution_count": 59,
   "metadata": {
    "deletable": false,
    "editable": false
   },
   "outputs": [
    {
     "data": {
      "text/html": [
       "<p><strong><pre style='display: inline;'>q3a</pre></strong> passed!</p>"
      ],
      "text/plain": [
       "q3a results: All test cases passed!"
      ]
     },
     "execution_count": 59,
     "metadata": {},
     "output_type": "execute_result"
    }
   ],
   "source": [
    "grader.check(\"q3a\")"
   ]
  },
  {
   "cell_type": "markdown",
   "metadata": {},
   "source": [
    "### Question 3b\n",
    "\n",
    "Similar to Question 3a, perform an inner join on the `people` and `collegeplaying` tables on the `playerid` column. Project all columns.\n",
    "\n",
    "In addition, **sort your output by `playerid`.**"
   ]
  },
  {
   "cell_type": "code",
   "execution_count": 60,
   "metadata": {},
   "outputs": [
    {
     "name": "stdout",
     "output_type": "stream",
     "text": [
      " * postgresql://jovyan@127.0.0.1:5432/baseball\n",
      "   postgresql://jovyan@127.0.0.1:5432/postgres\n",
      "17350 rows affected.\n",
      "Returning data to local variable q3b_join\n"
     ]
    }
   ],
   "source": [
    "%%sql q3b_join <<\n",
    "SELECT * FROM people p, collegeplaying c\n",
    "WHERE p.playerid = c.playerid\n",
    "ORDER BY p.playerid"
   ]
  },
  {
   "cell_type": "markdown",
   "metadata": {},
   "source": [
    "Inspect the query plan for the query you wrote above."
   ]
  },
  {
   "cell_type": "code",
   "execution_count": 61,
   "metadata": {},
   "outputs": [
    {
     "name": "stdout",
     "output_type": "stream",
     "text": [
      "                                                                         QUERY PLAN                                                                         \r\n",
      "------------------------------------------------------------------------------------------------------------------------------------------------------------\r\n",
      " Merge Join  (cost=0.57..1910.20 rows=17350 width=167) (actual time=0.053..18.259 rows=17350 loops=1)\r\n",
      "   Merge Cond: ((p.playerid)::text = (c.playerid)::text)\r\n",
      "   ->  Index Scan using master_pkey on people p  (cost=0.29..1024.36 rows=19370 width=146) (actual time=0.024..4.267 rows=19368 loops=1)\r\n",
      "   ->  Index Only Scan using collegeplaying_pkey on collegeplaying c  (cost=0.29..620.54 rows=17350 width=21) (actual time=0.023..2.323 rows=17350 loops=1)\r\n",
      "         Heap Fetches: 0\r\n",
      " Planning Time: 1.438 ms\r\n",
      " Execution Time: 18.978 ms\r\n",
      "(7 rows)\r\n",
      "\r\n"
     ]
    }
   ],
   "source": [
    "q3b_query_str = \"SELECT * FROM people p, collegeplaying c WHERE p.playerid = c.playerid ORDER BY p.playerid\"\n",
    "!psql -h localhost -d baseball -c \"explain analyze $q3b_query_str\""
   ]
  },
  {
   "cell_type": "markdown",
   "metadata": {
    "deletable": false,
    "editable": false
   },
   "source": [
    "Given your findings from inspecting the query plan, answer the following question. Assign the variable `q3b` to a list of all the options which are true for the proposed statement.\n",
    "\n",
    "1. Which join approach did the query optimizer choose?\n",
    "    1. Nested Loop Join\n",
    "    1. Merge Join\n",
    "    1. Hash Join\n",
    "    1. None of the Above\n",
    "\n",
    "**Note:** Your answer should be formatted as follows: `q3b = ['A', 'B']`\n",
    "\n",
    "<!--\n",
    "BEGIN QUESTION\n",
    "name: q3b\n",
    "points: 1\n",
    "-->"
   ]
  },
  {
   "cell_type": "code",
   "execution_count": 62,
   "metadata": {},
   "outputs": [],
   "source": [
    "q3b = ['B']"
   ]
  },
  {
   "cell_type": "code",
   "execution_count": 63,
   "metadata": {
    "deletable": false,
    "editable": false
   },
   "outputs": [
    {
     "data": {
      "text/html": [
       "<p><strong><pre style='display: inline;'>q3b</pre></strong> passed!</p>"
      ],
      "text/plain": [
       "q3b results: All test cases passed!"
      ]
     },
     "execution_count": 63,
     "metadata": {},
     "output_type": "execute_result"
    }
   ],
   "source": [
    "grader.check(\"q3b\")"
   ]
  },
  {
   "cell_type": "markdown",
   "metadata": {},
   "source": [
    "### Question 3c\n",
    "Write a query to retrieve all possible player pair combinations. Project all columns, but **limit to 1000 rows** to ensure your query doesn't take an exorbitant amount of time to run.\n",
    "\n",
    "**Hint:** You can do this by performing an inner join of the `people` table on itself with an inequality condition."
   ]
  },
  {
   "cell_type": "code",
   "execution_count": 64,
   "metadata": {},
   "outputs": [
    {
     "name": "stdout",
     "output_type": "stream",
     "text": [
      " * postgresql://jovyan@127.0.0.1:5432/baseball\n",
      "   postgresql://jovyan@127.0.0.1:5432/postgres\n",
      "1000 rows affected.\n",
      "Returning data to local variable q3c_join\n"
     ]
    }
   ],
   "source": [
    "%%sql q3c_join <<\n",
    "SELECT * FROM people p1, people p2\n",
    "WHERE p1.playerid != p2.playerid\n",
    "LIMIT 1000"
   ]
  },
  {
   "cell_type": "markdown",
   "metadata": {},
   "source": [
    "Inspect the query plan for the query you wrote above."
   ]
  },
  {
   "cell_type": "code",
   "execution_count": 65,
   "metadata": {},
   "outputs": [
    {
     "name": "stdout",
     "output_type": "stream",
     "text": [
      "                                                           QUERY PLAN                                                           \r\n",
      "--------------------------------------------------------------------------------------------------------------------------------\r\n",
      " Limit  (cost=0.00..15.00 rows=1000 width=292) (actual time=0.052..1.039 rows=1000 loops=1)\r\n",
      "   ->  Nested Loop  (cost=0.00..5629241.33 rows=375177530 width=292) (actual time=0.051..0.969 rows=1000 loops=1)\r\n",
      "         Join Filter: ((p1.playerid)::text <> (p2.playerid)::text)\r\n",
      "         Rows Removed by Join Filter: 1\r\n",
      "         ->  Seq Scan on people p1  (cost=0.00..619.70 rows=19370 width=146) (actual time=0.024..0.024 rows=1 loops=1)\r\n",
      "         ->  Materialize  (cost=0.00..716.55 rows=19370 width=146) (actual time=0.019..0.526 rows=1001 loops=1)\r\n",
      "               ->  Seq Scan on people p2  (cost=0.00..619.70 rows=19370 width=146) (actual time=0.001..0.112 rows=1001 loops=1)\r\n",
      " Planning Time: 0.813 ms\r\n",
      " Execution Time: 1.186 ms\r\n",
      "(9 rows)\r\n",
      "\r\n"
     ]
    }
   ],
   "source": [
    "q3c_query_str = \"SELECT * FROM people p1, people p2 WHERE p1.playerid != p2.playerid LIMIT 1000\"\n",
    "!psql -h localhost -d baseball -c \"explain analyze $q3c_query_str\""
   ]
  },
  {
   "cell_type": "markdown",
   "metadata": {
    "deletable": false,
    "editable": false
   },
   "source": [
    "Given your findings from inspecting the query plan, answer the following question. Assign the variable `q3c` to a list of all the options which are true for the proposed statement.\n",
    "\n",
    "1. Which join approach did the query optimizer choose?\n",
    "    1. Nested Loop Join\n",
    "    1. Merge Join\n",
    "    1. Hash Join\n",
    "    1. None of the Above\n",
    "\n",
    "**Note:** Your answer should be formatted as follows: `q3c = ['A', 'B']`\n",
    "\n",
    "<!--\n",
    "BEGIN QUESTION\n",
    "name: q3c\n",
    "points: 1\n",
    "-->"
   ]
  },
  {
   "cell_type": "code",
   "execution_count": 66,
   "metadata": {},
   "outputs": [],
   "source": [
    "q3c = ['A']"
   ]
  },
  {
   "cell_type": "code",
   "execution_count": 67,
   "metadata": {
    "deletable": false,
    "editable": false
   },
   "outputs": [
    {
     "data": {
      "text/html": [
       "<p><strong><pre style='display: inline;'>q3c</pre></strong> passed!</p>"
      ],
      "text/plain": [
       "q3c results: All test cases passed!"
      ]
     },
     "execution_count": 67,
     "metadata": {},
     "output_type": "execute_result"
    }
   ],
   "source": [
    "grader.check(\"q3c\")"
   ]
  },
  {
   "cell_type": "markdown",
   "metadata": {
    "deletable": false,
    "editable": false
   },
   "source": [
    "<!-- BEGIN QUESTION -->\n",
    "\n",
    "### Question 3d\n",
    "Please discuss your findings in the previous parts. In particular, we are interested in hearing why you think the query optimizer chooses the ultimate join approach in each of the above three scenarios. Feel free to discuss the pros and cons of each join approach as well.\n",
    "\n",
    "If you feel stuck, here are some things to consider: Does a non-equijoin constrain us to certain join approaches? What's an added benefit in regards to the output of merge join?\n",
    "\n",
    "<!--\n",
    "BEGIN QUESTION\n",
    "name: q3d\n",
    "manual: true\n",
    "points: 3\n",
    "-->"
   ]
  },
  {
   "cell_type": "markdown",
   "metadata": {},
   "source": [
    "When the merge has equi join constrain and data is sorted, the query will conduct with merge join which is fastest; \n",
    "\n",
    "When the merge has equi join constrain but data is not sorted, then with hash join, becasue hash join is the second fastest;\n",
    "\n",
    "If it is a non-equijoin constrain, merge and hash join is not applicable, so the query choose nested-loops.\n",
    "\n",
    "One benefit of merge join is that the output is also sorted."
   ]
  },
  {
   "cell_type": "markdown",
   "metadata": {},
   "source": [
    "<!-- END QUESTION -->\n",
    "\n",
    "\n",
    "\n",
    "## Question 4: Indexes\n",
    "\n",
    "### Question 4a:\n",
    "Write a query that outputs the `playerid` and average `salary` for each player that only batted in 10 games (the number of games in which a player batted can be found in the `g_batting` column of the `appearances` table). Your query should join the `salaries` and `appearances` table on all the common columns `yearid`, `teamid`, and `playerid`, so feel free to use a natural join."
   ]
  },
  {
   "cell_type": "code",
   "execution_count": 68,
   "metadata": {},
   "outputs": [
    {
     "name": "stdout",
     "output_type": "stream",
     "text": [
      " * postgresql://jovyan@127.0.0.1:5432/baseball\n",
      "   postgresql://jovyan@127.0.0.1:5432/postgres\n",
      "134 rows affected.\n",
      "Returning data to local variable result_4a\n"
     ]
    }
   ],
   "source": [
    "%%sql result_4a <<\n",
    "SELECT a.playerid, AVG(salary) salary\n",
    "FROM appearances a NATURAL JOIN salaries s\n",
    "WHERE a.g_batting = 10\n",
    "GROUP BY a.playerid"
   ]
  },
  {
   "cell_type": "code",
   "execution_count": 69,
   "metadata": {},
   "outputs": [
    {
     "name": "stdout",
     "output_type": "stream",
     "text": [
      " * postgresql://jovyan@127.0.0.1:5432/baseball\n",
      "   postgresql://jovyan@127.0.0.1:5432/postgres\n",
      "5 rows affected.\n"
     ]
    },
    {
     "data": {
      "text/html": [
       "<table>\n",
       "    <tr>\n",
       "        <th>yearid</th>\n",
       "        <th>teamid</th>\n",
       "        <th>lgid</th>\n",
       "        <th>playerid</th>\n",
       "        <th>g_all</th>\n",
       "        <th>gs</th>\n",
       "        <th>g_batting</th>\n",
       "        <th>g_defense</th>\n",
       "        <th>g_p</th>\n",
       "        <th>g_c</th>\n",
       "        <th>g_1b</th>\n",
       "        <th>g_2b</th>\n",
       "        <th>g_3b</th>\n",
       "        <th>g_ss</th>\n",
       "        <th>g_lf</th>\n",
       "        <th>g_cf</th>\n",
       "        <th>g_rf</th>\n",
       "        <th>g_of</th>\n",
       "        <th>g_dh</th>\n",
       "        <th>g_ph</th>\n",
       "        <th>g_pr</th>\n",
       "    </tr>\n",
       "    <tr>\n",
       "        <td>1871</td>\n",
       "        <td>TRO</td>\n",
       "        <td>NA</td>\n",
       "        <td>abercda01</td>\n",
       "        <td>1</td>\n",
       "        <td>1</td>\n",
       "        <td>1</td>\n",
       "        <td>1</td>\n",
       "        <td>0</td>\n",
       "        <td>0</td>\n",
       "        <td>0</td>\n",
       "        <td>0</td>\n",
       "        <td>0</td>\n",
       "        <td>1</td>\n",
       "        <td>0</td>\n",
       "        <td>0</td>\n",
       "        <td>0</td>\n",
       "        <td>0</td>\n",
       "        <td>0</td>\n",
       "        <td>0</td>\n",
       "        <td>0</td>\n",
       "    </tr>\n",
       "    <tr>\n",
       "        <td>1871</td>\n",
       "        <td>RC1</td>\n",
       "        <td>NA</td>\n",
       "        <td>addybo01</td>\n",
       "        <td>25</td>\n",
       "        <td>25</td>\n",
       "        <td>25</td>\n",
       "        <td>25</td>\n",
       "        <td>0</td>\n",
       "        <td>0</td>\n",
       "        <td>0</td>\n",
       "        <td>22</td>\n",
       "        <td>0</td>\n",
       "        <td>3</td>\n",
       "        <td>0</td>\n",
       "        <td>0</td>\n",
       "        <td>0</td>\n",
       "        <td>0</td>\n",
       "        <td>0</td>\n",
       "        <td>0</td>\n",
       "        <td>0</td>\n",
       "    </tr>\n",
       "    <tr>\n",
       "        <td>1871</td>\n",
       "        <td>CL1</td>\n",
       "        <td>NA</td>\n",
       "        <td>allisar01</td>\n",
       "        <td>29</td>\n",
       "        <td>29</td>\n",
       "        <td>29</td>\n",
       "        <td>29</td>\n",
       "        <td>0</td>\n",
       "        <td>0</td>\n",
       "        <td>0</td>\n",
       "        <td>2</td>\n",
       "        <td>0</td>\n",
       "        <td>0</td>\n",
       "        <td>0</td>\n",
       "        <td>29</td>\n",
       "        <td>0</td>\n",
       "        <td>29</td>\n",
       "        <td>0</td>\n",
       "        <td>0</td>\n",
       "        <td>0</td>\n",
       "    </tr>\n",
       "    <tr>\n",
       "        <td>1871</td>\n",
       "        <td>WS3</td>\n",
       "        <td>NA</td>\n",
       "        <td>allisdo01</td>\n",
       "        <td>27</td>\n",
       "        <td>27</td>\n",
       "        <td>27</td>\n",
       "        <td>27</td>\n",
       "        <td>0</td>\n",
       "        <td>27</td>\n",
       "        <td>0</td>\n",
       "        <td>0</td>\n",
       "        <td>0</td>\n",
       "        <td>0</td>\n",
       "        <td>0</td>\n",
       "        <td>0</td>\n",
       "        <td>0</td>\n",
       "        <td>0</td>\n",
       "        <td>0</td>\n",
       "        <td>0</td>\n",
       "        <td>0</td>\n",
       "    </tr>\n",
       "    <tr>\n",
       "        <td>1871</td>\n",
       "        <td>RC1</td>\n",
       "        <td>NA</td>\n",
       "        <td>ansonca01</td>\n",
       "        <td>25</td>\n",
       "        <td>25</td>\n",
       "        <td>25</td>\n",
       "        <td>25</td>\n",
       "        <td>0</td>\n",
       "        <td>5</td>\n",
       "        <td>1</td>\n",
       "        <td>2</td>\n",
       "        <td>20</td>\n",
       "        <td>0</td>\n",
       "        <td>1</td>\n",
       "        <td>0</td>\n",
       "        <td>0</td>\n",
       "        <td>1</td>\n",
       "        <td>0</td>\n",
       "        <td>0</td>\n",
       "        <td>0</td>\n",
       "    </tr>\n",
       "</table>"
      ],
      "text/plain": [
       "[(1871, 'TRO', 'NA', 'abercda01', 1, 1, 1, 1, 0, 0, 0, 0, 0, 1, 0, 0, 0, 0, 0, 0, 0),\n",
       " (1871, 'RC1', 'NA', 'addybo01', 25, 25, 25, 25, 0, 0, 0, 22, 0, 3, 0, 0, 0, 0, 0, 0, 0),\n",
       " (1871, 'CL1', 'NA', 'allisar01', 29, 29, 29, 29, 0, 0, 0, 2, 0, 0, 0, 29, 0, 29, 0, 0, 0),\n",
       " (1871, 'WS3', 'NA', 'allisdo01', 27, 27, 27, 27, 0, 27, 0, 0, 0, 0, 0, 0, 0, 0, 0, 0, 0),\n",
       " (1871, 'RC1', 'NA', 'ansonca01', 25, 25, 25, 25, 0, 5, 1, 2, 20, 0, 1, 0, 0, 1, 0, 0, 0)]"
      ]
     },
     "execution_count": 69,
     "metadata": {},
     "output_type": "execute_result"
    }
   ],
   "source": [
    "%sql SELECT * FROM appearances LIMIT 5"
   ]
  },
  {
   "cell_type": "code",
   "execution_count": 70,
   "metadata": {},
   "outputs": [
    {
     "name": "stdout",
     "output_type": "stream",
     "text": [
      " * postgresql://jovyan@127.0.0.1:5432/baseball\n",
      "   postgresql://jovyan@127.0.0.1:5432/postgres\n",
      "5 rows affected.\n"
     ]
    },
    {
     "data": {
      "text/html": [
       "<table>\n",
       "    <tr>\n",
       "        <th>yearid</th>\n",
       "        <th>teamid</th>\n",
       "        <th>lgid</th>\n",
       "        <th>playerid</th>\n",
       "        <th>salary</th>\n",
       "    </tr>\n",
       "    <tr>\n",
       "        <td>1985</td>\n",
       "        <td>ATL</td>\n",
       "        <td>NL</td>\n",
       "        <td>barkele01</td>\n",
       "        <td>870000.0</td>\n",
       "    </tr>\n",
       "    <tr>\n",
       "        <td>1985</td>\n",
       "        <td>ATL</td>\n",
       "        <td>NL</td>\n",
       "        <td>bedrost01</td>\n",
       "        <td>550000.0</td>\n",
       "    </tr>\n",
       "    <tr>\n",
       "        <td>1985</td>\n",
       "        <td>ATL</td>\n",
       "        <td>NL</td>\n",
       "        <td>benedbr01</td>\n",
       "        <td>545000.0</td>\n",
       "    </tr>\n",
       "    <tr>\n",
       "        <td>1985</td>\n",
       "        <td>ATL</td>\n",
       "        <td>NL</td>\n",
       "        <td>campri01</td>\n",
       "        <td>633333.0</td>\n",
       "    </tr>\n",
       "    <tr>\n",
       "        <td>1985</td>\n",
       "        <td>ATL</td>\n",
       "        <td>NL</td>\n",
       "        <td>ceronri01</td>\n",
       "        <td>625000.0</td>\n",
       "    </tr>\n",
       "</table>"
      ],
      "text/plain": [
       "[(1985, 'ATL', 'NL', 'barkele01', 870000.0),\n",
       " (1985, 'ATL', 'NL', 'bedrost01', 550000.0),\n",
       " (1985, 'ATL', 'NL', 'benedbr01', 545000.0),\n",
       " (1985, 'ATL', 'NL', 'campri01', 633333.0),\n",
       " (1985, 'ATL', 'NL', 'ceronri01', 625000.0)]"
      ]
     },
     "execution_count": 70,
     "metadata": {},
     "output_type": "execute_result"
    }
   ],
   "source": [
    "%sql SELECT * FROM salaries LIMIT 5"
   ]
  },
  {
   "cell_type": "code",
   "execution_count": 71,
   "metadata": {},
   "outputs": [],
   "source": [
    "# Do not delete/edit this cell\n",
    "result_4a.DataFrame().sort_values('playerid').to_csv('results/result_4a.csv', index=False)"
   ]
  },
  {
   "cell_type": "code",
   "execution_count": 72,
   "metadata": {
    "deletable": false,
    "editable": false
   },
   "outputs": [
    {
     "data": {
      "text/html": [
       "<p><strong><pre style='display: inline;'>q4ai</pre></strong> passed!</p>"
      ],
      "text/plain": [
       "q4ai results: All test cases passed!"
      ]
     },
     "execution_count": 72,
     "metadata": {},
     "output_type": "execute_result"
    }
   ],
   "source": [
    "grader.check(\"q4ai\")"
   ]
  },
  {
   "cell_type": "markdown",
   "metadata": {},
   "source": [
    "Inspect the query plan and record the execution time and cost."
   ]
  },
  {
   "cell_type": "code",
   "execution_count": 73,
   "metadata": {},
   "outputs": [
    {
     "name": "stdout",
     "output_type": "stream",
     "text": [
      "                                                                                   QUERY PLAN                                                                                   \r\n",
      "--------------------------------------------------------------------------------------------------------------------------------------------------------------------------------\r\n",
      " GroupAggregate  (cost=3634.86..3634.89 rows=1 width=17) (actual time=23.341..23.413 rows=134 loops=1)\r\n",
      "   Group Key: a.playerid\r\n",
      "   ->  Sort  (cost=3634.86..3634.87 rows=1 width=17) (actual time=23.327..23.341 rows=138 loops=1)\r\n",
      "         Sort Key: a.playerid\r\n",
      "         Sort Method: quicksort  Memory: 35kB\r\n",
      "         ->  Hash Join  (cost=2898.08..3634.85 rows=1 width=17) (actual time=15.101..23.143 rows=138 loops=1)\r\n",
      "               Hash Cond: ((s.yearid = a.yearid) AND ((s.teamid)::text = (a.teamid)::text) AND ((s.lgid)::text = (a.lgid)::text) AND ((s.playerid)::text = (a.playerid)::text))\r\n",
      "               ->  Seq Scan on salaries s  (cost=0.00..459.28 rows=26428 width=28) (actual time=0.017..2.116 rows=26428 loops=1)\r\n",
      "               ->  Hash  (cost=2873.20..2873.20 rows=1244 width=20) (actual time=14.886..14.887 rows=1347 loops=1)\r\n",
      "                     Buckets: 2048  Batches: 1  Memory Usage: 89kB\r\n",
      "                     ->  Seq Scan on appearances a  (cost=0.00..2873.20 rows=1244 width=20) (actual time=0.016..14.317 rows=1347 loops=1)\r\n",
      "                           Filter: (g_batting = 10)\r\n",
      "                           Rows Removed by Filter: 102909\r\n",
      " Planning Time: 1.726 ms\r\n",
      " Execution Time: 23.570 ms\r\n",
      "(15 rows)\r\n",
      "\r\n"
     ]
    }
   ],
   "source": [
    "result_4a_query_str = \"SELECT a.playerid, AVG(salary) salary \\\n",
    "FROM appearances a NATURAL JOIN salaries s \\\n",
    "WHERE a.g_batting = 10 \\\n",
    "GROUP BY a.playerid\"\n",
    "!psql -h localhost -d baseball -c \"explain analyze $result_4a_query_str\""
   ]
  },
  {
   "cell_type": "code",
   "execution_count": 74,
   "metadata": {},
   "outputs": [],
   "source": [
    "result_4a_cost = 3634.89\n",
    "result_4a_timing = 23.570"
   ]
  },
  {
   "cell_type": "code",
   "execution_count": 75,
   "metadata": {
    "deletable": false,
    "editable": false
   },
   "outputs": [
    {
     "data": {
      "text/html": [
       "<p><strong><pre style='display: inline;'>q4aii</pre></strong> passed!</p>"
      ],
      "text/plain": [
       "q4aii results: All test cases passed!"
      ]
     },
     "execution_count": 75,
     "metadata": {},
     "output_type": "execute_result"
    }
   ],
   "source": [
    "grader.check(\"q4aii\")"
   ]
  },
  {
   "cell_type": "markdown",
   "metadata": {},
   "source": [
    "### Question 4b:\n",
    "Add an index with name `g_batting_idx` on the `g_batting` column of the `appearances` table."
   ]
  },
  {
   "cell_type": "code",
   "execution_count": 76,
   "metadata": {},
   "outputs": [
    {
     "name": "stdout",
     "output_type": "stream",
     "text": [
      " * postgresql://jovyan@127.0.0.1:5432/baseball\n",
      "   postgresql://jovyan@127.0.0.1:5432/postgres\n",
      "Done.\n",
      "Returning data to local variable result_4b\n"
     ]
    }
   ],
   "source": [
    "%%sql result_4b <<\n",
    "CREATE INDEX g_batting_idx\n",
    "ON appearances (g_batting);"
   ]
  },
  {
   "cell_type": "markdown",
   "metadata": {},
   "source": [
    "Now, re-inspect the query plan of the query from `Question 4a` and record its execution time and cost."
   ]
  },
  {
   "cell_type": "code",
   "execution_count": 77,
   "metadata": {},
   "outputs": [
    {
     "name": "stdout",
     "output_type": "stream",
     "text": [
      "                                                                                   QUERY PLAN                                                                                   \r\n",
      "--------------------------------------------------------------------------------------------------------------------------------------------------------------------------------\r\n",
      " GroupAggregate  (cost=2346.09..2346.11 rows=1 width=17) (actual time=11.687..11.769 rows=134 loops=1)\r\n",
      "   Group Key: a.playerid\r\n",
      "   ->  Sort  (cost=2346.09..2346.09 rows=1 width=17) (actual time=11.674..11.685 rows=138 loops=1)\r\n",
      "         Sort Key: a.playerid\r\n",
      "         Sort Method: quicksort  Memory: 35kB\r\n",
      "         ->  Hash Join  (cost=1609.30..2346.08 rows=1 width=17) (actual time=3.479..11.462 rows=138 loops=1)\r\n",
      "               Hash Cond: ((s.yearid = a.yearid) AND ((s.teamid)::text = (a.teamid)::text) AND ((s.lgid)::text = (a.lgid)::text) AND ((s.playerid)::text = (a.playerid)::text))\r\n",
      "               ->  Seq Scan on salaries s  (cost=0.00..459.28 rows=26428 width=28) (actual time=0.014..2.099 rows=26428 loops=1)\r\n",
      "               ->  Hash  (cost=1584.42..1584.42 rows=1244 width=20) (actual time=3.282..3.284 rows=1347 loops=1)\r\n",
      "                     Buckets: 2048  Batches: 1  Memory Usage: 89kB\r\n",
      "                     ->  Bitmap Heap Scan on appearances a  (cost=17.93..1584.42 rows=1244 width=20) (actual time=0.330..2.864 rows=1347 loops=1)\r\n",
      "                           Recheck Cond: (g_batting = 10)\r\n",
      "                           Heap Blocks: exact=899\r\n",
      "                           ->  Bitmap Index Scan on g_batting_idx  (cost=0.00..17.62 rows=1244 width=0) (actual time=0.187..0.187 rows=1347 loops=1)\r\n",
      "                                 Index Cond: (g_batting = 10)\r\n",
      " Planning Time: 1.816 ms\r\n",
      " Execution Time: 11.917 ms\r\n",
      "(17 rows)\r\n",
      "\r\n"
     ]
    }
   ],
   "source": [
    "!psql -h localhost -d baseball -c \"explain analyze $result_4a_query_str\""
   ]
  },
  {
   "cell_type": "code",
   "execution_count": 78,
   "metadata": {},
   "outputs": [],
   "source": [
    "result_4b_cost = 2346.11\n",
    "result_4b_timing = 11.917"
   ]
  },
  {
   "cell_type": "code",
   "execution_count": 79,
   "metadata": {
    "deletable": false,
    "editable": false
   },
   "outputs": [
    {
     "data": {
      "text/html": [
       "<p><strong><pre style='display: inline;'>q4b</pre></strong> passed!</p>"
      ],
      "text/plain": [
       "q4b results: All test cases passed!"
      ]
     },
     "execution_count": 79,
     "metadata": {},
     "output_type": "execute_result"
    }
   ],
   "source": [
    "grader.check(\"q4b\")"
   ]
  },
  {
   "cell_type": "markdown",
   "metadata": {},
   "source": [
    "In the following question, we will explore adding a different index and evaluating the query from `Question 4a`. To avoid any interference by the `g_batting_idx` index, **drop the index before moving onto the next question.**"
   ]
  },
  {
   "cell_type": "code",
   "execution_count": 80,
   "metadata": {},
   "outputs": [
    {
     "name": "stdout",
     "output_type": "stream",
     "text": [
      " * postgresql://jovyan@127.0.0.1:5432/baseball\n",
      "   postgresql://jovyan@127.0.0.1:5432/postgres\n",
      "Done.\n"
     ]
    },
    {
     "data": {
      "text/plain": [
       "[]"
      ]
     },
     "execution_count": 80,
     "metadata": {},
     "output_type": "execute_result"
    }
   ],
   "source": [
    "%%sql \n",
    "DROP INDEX g_batting_idx"
   ]
  },
  {
   "cell_type": "markdown",
   "metadata": {},
   "source": [
    "### Question 4c:\n",
    "Write a query to add an index with name `salary_idx` on the `salary` column of the `salaries` table."
   ]
  },
  {
   "cell_type": "code",
   "execution_count": 81,
   "metadata": {},
   "outputs": [
    {
     "name": "stdout",
     "output_type": "stream",
     "text": [
      " * postgresql://jovyan@127.0.0.1:5432/baseball\n",
      "   postgresql://jovyan@127.0.0.1:5432/postgres\n",
      "Done.\n",
      "Returning data to local variable result_4c\n"
     ]
    }
   ],
   "source": [
    "%%sql result_4c <<\n",
    "CREATE INDEX salary_idx\n",
    "ON salaries (salary);"
   ]
  },
  {
   "cell_type": "markdown",
   "metadata": {},
   "source": [
    "Re-inspect the query plan of the query from the `Question 4a` and record its execution time and cost."
   ]
  },
  {
   "cell_type": "code",
   "execution_count": 82,
   "metadata": {},
   "outputs": [
    {
     "name": "stdout",
     "output_type": "stream",
     "text": [
      "                                                                                   QUERY PLAN                                                                                   \r\n",
      "--------------------------------------------------------------------------------------------------------------------------------------------------------------------------------\r\n",
      " GroupAggregate  (cost=3634.86..3634.89 rows=1 width=17) (actual time=23.431..23.500 rows=134 loops=1)\r\n",
      "   Group Key: a.playerid\r\n",
      "   ->  Sort  (cost=3634.86..3634.87 rows=1 width=17) (actual time=23.418..23.428 rows=138 loops=1)\r\n",
      "         Sort Key: a.playerid\r\n",
      "         Sort Method: quicksort  Memory: 35kB\r\n",
      "         ->  Hash Join  (cost=2898.08..3634.85 rows=1 width=17) (actual time=15.163..23.230 rows=138 loops=1)\r\n",
      "               Hash Cond: ((s.yearid = a.yearid) AND ((s.teamid)::text = (a.teamid)::text) AND ((s.lgid)::text = (a.lgid)::text) AND ((s.playerid)::text = (a.playerid)::text))\r\n",
      "               ->  Seq Scan on salaries s  (cost=0.00..459.28 rows=26428 width=28) (actual time=0.018..2.202 rows=26428 loops=1)\r\n",
      "               ->  Hash  (cost=2873.20..2873.20 rows=1244 width=20) (actual time=14.950..14.952 rows=1347 loops=1)\r\n",
      "                     Buckets: 2048  Batches: 1  Memory Usage: 89kB\r\n",
      "                     ->  Seq Scan on appearances a  (cost=0.00..2873.20 rows=1244 width=20) (actual time=0.017..14.335 rows=1347 loops=1)\r\n",
      "                           Filter: (g_batting = 10)\r\n",
      "                           Rows Removed by Filter: 102909\r\n",
      " Planning Time: 1.879 ms\r\n",
      " Execution Time: 23.617 ms\r\n",
      "(15 rows)\r\n",
      "\r\n"
     ]
    }
   ],
   "source": [
    "!psql -h localhost -d baseball -c \"explain analyze $result_4a_query_str\""
   ]
  },
  {
   "cell_type": "code",
   "execution_count": 83,
   "metadata": {},
   "outputs": [],
   "source": [
    "result_4c_cost = 3634.89\n",
    "result_4c_timing = 23.617"
   ]
  },
  {
   "cell_type": "code",
   "execution_count": 84,
   "metadata": {
    "deletable": false,
    "editable": false
   },
   "outputs": [
    {
     "data": {
      "text/html": [
       "<p><strong><pre style='display: inline;'>q4c</pre></strong> passed!</p>"
      ],
      "text/plain": [
       "q4c results: All test cases passed!"
      ]
     },
     "execution_count": 84,
     "metadata": {},
     "output_type": "execute_result"
    }
   ],
   "source": [
    "grader.check(\"q4c\")"
   ]
  },
  {
   "cell_type": "markdown",
   "metadata": {
    "deletable": false,
    "editable": false
   },
   "source": [
    "### Question 4d:\n",
    "#### Question 4di:\n",
    "Given your findings from inspecting the query plans with no indexes, an index on `g_batting`, and an index on `salary`, answer the following question. Assign the variable `q4d_part1` to a list of all options which are true for the proposed statement.\n",
    "\n",
    "1. Consider the following statements:\n",
    "    1. Adding the `g_batting` index did not have a significant impact on the query execution time and cost.\n",
    "    1. Adding the `g_batting` index did have a significant impact on the query execution time, but not the cost.\n",
    "    1. Adding the `g_batting` index did have a significant impact on the query cost, but not the execution time.\n",
    "    1. Adding the `g_batting` index did have a significant impact on the query cost and execution time.\n",
    "    1. Adding the `salary` index did not have a significant impact on the query execution time and cost.\n",
    "    1. Adding the `salary` index did have a significant impact on the query execution time, but not the cost.\n",
    "    1. Adding the `salary` index did have a significant impact on the query cost, but not the execution time.\n",
    "    1. Adding the `salary` index did have a significant impact on the query cost and execution time.\n",
    "\n",
    "**Note:** Your answer should be formatted as follows: `q4d_part1 = ['A', 'B']`\n",
    "\n",
    "<!--\n",
    "BEGIN QUESTION\n",
    "name: q4di\n",
    "points: 2\n",
    "-->"
   ]
  },
  {
   "cell_type": "code",
   "execution_count": 85,
   "metadata": {},
   "outputs": [],
   "source": [
    "q4d_part1 = ['D', 'E']"
   ]
  },
  {
   "cell_type": "code",
   "execution_count": 86,
   "metadata": {
    "deletable": false,
    "editable": false
   },
   "outputs": [
    {
     "data": {
      "text/html": [
       "<p><strong><pre style='display: inline;'>q4di</pre></strong> passed!</p>"
      ],
      "text/plain": [
       "q4di results: All test cases passed!"
      ]
     },
     "execution_count": 86,
     "metadata": {},
     "output_type": "execute_result"
    }
   ],
   "source": [
    "grader.check(\"q4di\")"
   ]
  },
  {
   "cell_type": "markdown",
   "metadata": {
    "deletable": false,
    "editable": false
   },
   "source": [
    "<!-- BEGIN QUESTION -->\n",
    "\n",
    "#### Question 4dii:\n",
    "\n",
    "Explain your answer based on your knowledge from lectures, and details from inspecting the query plans (your explanation should include why you didn't choose certain options).\n",
    "\n",
    "<!--\n",
    "BEGIN QUESTION\n",
    "name: q4dii\n",
    "manual: true\n",
    "points: 2\n",
    "-->"
   ]
  },
  {
   "cell_type": "markdown",
   "metadata": {},
   "source": [
    "The g_batting is in the WHERE clause, and index it can save a lot of time and cost because we only need to look over tuples that satisfy g_batting = 10. However, index salary does not help because we do not need to lookup for salary."
   ]
  },
  {
   "cell_type": "markdown",
   "metadata": {},
   "source": [
    "<!-- END QUESTION -->\n",
    "\n",
    "\n",
    "\n",
    "In the following question, we will further explore the impact of indexes on query performance. To avoid any interference by the `salary_idx` index, please drop the index before moving onto the next question."
   ]
  },
  {
   "cell_type": "code",
   "execution_count": 87,
   "metadata": {},
   "outputs": [
    {
     "name": "stdout",
     "output_type": "stream",
     "text": [
      " * postgresql://jovyan@127.0.0.1:5432/baseball\n",
      "   postgresql://jovyan@127.0.0.1:5432/postgres\n",
      "Done.\n"
     ]
    },
    {
     "data": {
      "text/plain": [
       "[]"
      ]
     },
     "execution_count": 87,
     "metadata": {},
     "output_type": "execute_result"
    }
   ],
   "source": [
    "%%sql \n",
    "DROP INDEX salary_idx"
   ]
  },
  {
   "cell_type": "markdown",
   "metadata": {},
   "source": [
    "### Question 4e:\n",
    "#### Question 4ei:\n",
    "Write a query that finds the `playerid`, `yearid`, and `salary` for each player that had played 10 games and batted in 10 games (the number of games in which a player played can be found in the `g_all` column of the `appearances` table). Your query should join the `salaries` and `appearances` table on all the common columns `yearid`, `teamid`, and `playerid`, so feel free to use a natural join."
   ]
  },
  {
   "cell_type": "code",
   "execution_count": 88,
   "metadata": {},
   "outputs": [
    {
     "name": "stdout",
     "output_type": "stream",
     "text": [
      " * postgresql://jovyan@127.0.0.1:5432/baseball\n",
      "   postgresql://jovyan@127.0.0.1:5432/postgres\n",
      "120 rows affected.\n",
      "Returning data to local variable result_4ei\n"
     ]
    }
   ],
   "source": [
    "%%sql result_4ei <<\n",
    "SELECT a.playerid, a.yearid, s.salary\n",
    "FROM appearances a NATURAL JOIN salaries s\n",
    "WHERE a.g_batting = 10 and a.g_all = 10;"
   ]
  },
  {
   "cell_type": "code",
   "execution_count": 89,
   "metadata": {},
   "outputs": [],
   "source": [
    "# Do not delete/edit this cell\n",
    "result_4ei.DataFrame().sort_values(['playerid', 'yearid']).to_csv('results/result_4ei.csv', index=False)"
   ]
  },
  {
   "cell_type": "code",
   "execution_count": 90,
   "metadata": {
    "deletable": false,
    "editable": false
   },
   "outputs": [
    {
     "data": {
      "text/html": [
       "<p><strong><pre style='display: inline;'>q4ei_part1</pre></strong> passed!</p>"
      ],
      "text/plain": [
       "q4ei_part1 results: All test cases passed!"
      ]
     },
     "execution_count": 90,
     "metadata": {},
     "output_type": "execute_result"
    }
   ],
   "source": [
    "grader.check(\"q4ei_part1\")"
   ]
  },
  {
   "cell_type": "markdown",
   "metadata": {},
   "source": [
    "Inspect the query plan and record the execution time and cost."
   ]
  },
  {
   "cell_type": "code",
   "execution_count": 91,
   "metadata": {},
   "outputs": [
    {
     "name": "stdout",
     "output_type": "stream",
     "text": [
      "                                                                            QUERY PLAN                                                                             \r\n",
      "-------------------------------------------------------------------------------------------------------------------------------------------------------------------\r\n",
      " Nested Loop  (cost=0.29..3279.47 rows=1 width=21) (actual time=9.802..17.372 rows=120 loops=1)\r\n",
      "   ->  Seq Scan on appearances a  (cost=0.00..3133.84 rows=18 width=20) (actual time=0.017..14.024 rows=1289 loops=1)\r\n",
      "         Filter: ((g_batting = 10) AND (g_all = 10))\r\n",
      "         Rows Removed by Filter: 102967\r\n",
      "   ->  Index Scan using salaries_pkey on salaries s  (cost=0.29..8.09 rows=1 width=28) (actual time=0.002..0.002 rows=0 loops=1289)\r\n",
      "         Index Cond: ((yearid = a.yearid) AND ((teamid)::text = (a.teamid)::text) AND ((lgid)::text = (a.lgid)::text) AND ((playerid)::text = (a.playerid)::text))\r\n",
      " Planning Time: 1.744 ms\r\n",
      " Execution Time: 17.443 ms\r\n",
      "(8 rows)\r\n",
      "\r\n"
     ]
    }
   ],
   "source": [
    "result_4ei_query_str = \"SELECT a.playerid, a.yearid, s.salary \\\n",
    "FROM appearances a NATURAL JOIN salaries s \\\n",
    "WHERE a.g_batting = 10 and a.g_all = 10\"\n",
    "!psql -h localhost -d baseball -c \"explain analyze $result_4ei_query_str\""
   ]
  },
  {
   "cell_type": "code",
   "execution_count": 92,
   "metadata": {},
   "outputs": [],
   "source": [
    "result_4ei_cost = 3279.47\n",
    "result_4ei_timing = 17.443"
   ]
  },
  {
   "cell_type": "code",
   "execution_count": 93,
   "metadata": {
    "deletable": false,
    "editable": false
   },
   "outputs": [
    {
     "data": {
      "text/html": [
       "<p><strong><pre style='display: inline;'>q4ei_part2</pre></strong> passed!</p>"
      ],
      "text/plain": [
       "q4ei_part2 results: All test cases passed!"
      ]
     },
     "execution_count": 93,
     "metadata": {},
     "output_type": "execute_result"
    }
   ],
   "source": [
    "grader.check(\"q4ei_part2\")"
   ]
  },
  {
   "cell_type": "markdown",
   "metadata": {},
   "source": [
    "#### Question 4eii:\n",
    "Now, let's see the impact of adding an index on the `g_batting` column. Create an index on the `g_batting` column. Re-inspect the query from `Question 4ei` and record the execution time and cost."
   ]
  },
  {
   "cell_type": "code",
   "execution_count": 94,
   "metadata": {
    "scrolled": true
   },
   "outputs": [
    {
     "name": "stdout",
     "output_type": "stream",
     "text": [
      " * postgresql://jovyan@127.0.0.1:5432/baseball\n",
      "   postgresql://jovyan@127.0.0.1:5432/postgres\n",
      "Done.\n",
      "Returning data to local variable result_4eii\n"
     ]
    }
   ],
   "source": [
    "%%sql result_4eii << \n",
    "CREATE INDEX g_batting_idx\n",
    "ON appearances (g_batting);"
   ]
  },
  {
   "cell_type": "code",
   "execution_count": 95,
   "metadata": {
    "scrolled": true
   },
   "outputs": [
    {
     "name": "stdout",
     "output_type": "stream",
     "text": [
      "                                                                            QUERY PLAN                                                                             \r\n",
      "-------------------------------------------------------------------------------------------------------------------------------------------------------------------\r\n",
      " Nested Loop  (cost=17.91..1732.85 rows=1 width=21) (actual time=3.101..6.161 rows=120 loops=1)\r\n",
      "   ->  Bitmap Heap Scan on appearances a  (cost=17.63..1587.23 rows=18 width=20) (actual time=0.340..2.851 rows=1289 loops=1)\r\n",
      "         Recheck Cond: (g_batting = 10)\r\n",
      "         Filter: (g_all = 10)\r\n",
      "         Rows Removed by Filter: 58\r\n",
      "         Heap Blocks: exact=899\r\n",
      "         ->  Bitmap Index Scan on g_batting_idx  (cost=0.00..17.62 rows=1244 width=0) (actual time=0.212..0.213 rows=1347 loops=1)\r\n",
      "               Index Cond: (g_batting = 10)\r\n",
      "   ->  Index Scan using salaries_pkey on salaries s  (cost=0.29..8.09 rows=1 width=28) (actual time=0.002..0.002 rows=0 loops=1289)\r\n",
      "         Index Cond: ((yearid = a.yearid) AND ((teamid)::text = (a.teamid)::text) AND ((lgid)::text = (a.lgid)::text) AND ((playerid)::text = (a.playerid)::text))\r\n",
      " Planning Time: 1.887 ms\r\n",
      " Execution Time: 6.260 ms\r\n",
      "(12 rows)\r\n",
      "\r\n"
     ]
    }
   ],
   "source": [
    "!psql -h localhost -d baseball -c \"explain analyze $result_4ei_query_str\""
   ]
  },
  {
   "cell_type": "code",
   "execution_count": 96,
   "metadata": {},
   "outputs": [],
   "source": [
    "result_4eii_with_index_cost = 1732.85\n",
    "result_4eii_with_index_timing = 6.260"
   ]
  },
  {
   "cell_type": "code",
   "execution_count": 97,
   "metadata": {
    "deletable": false,
    "editable": false
   },
   "outputs": [
    {
     "data": {
      "text/html": [
       "<p><strong><pre style='display: inline;'>q4eii</pre></strong> passed!</p>"
      ],
      "text/plain": [
       "q4eii results: All test cases passed!"
      ]
     },
     "execution_count": 97,
     "metadata": {},
     "output_type": "execute_result"
    }
   ],
   "source": [
    "grader.check(\"q4eii\")"
   ]
  },
  {
   "cell_type": "markdown",
   "metadata": {},
   "source": [
    "In the following question, we will further explore the impact of indexes on query performance. To avoid any interference from the index on the `g_batting` column, drop the index before moving onto the next question."
   ]
  },
  {
   "cell_type": "code",
   "execution_count": 98,
   "metadata": {},
   "outputs": [
    {
     "name": "stdout",
     "output_type": "stream",
     "text": [
      " * postgresql://jovyan@127.0.0.1:5432/baseball\n",
      "   postgresql://jovyan@127.0.0.1:5432/postgres\n",
      "Done.\n"
     ]
    },
    {
     "data": {
      "text/plain": [
       "[]"
      ]
     },
     "execution_count": 98,
     "metadata": {},
     "output_type": "execute_result"
    }
   ],
   "source": [
    "%%sql \n",
    "DROP INDEX g_batting_idx;"
   ]
  },
  {
   "cell_type": "markdown",
   "metadata": {},
   "source": [
    "#### Question 4eiii:\n",
    "Write a query that finds the `playerid`, `yearid`, and `salary` for each player that had played 10 games __or__ batted in 10 games. Your query should join the `salaries` and `appearances` table on all the common columns `yearid`, `teamid`, and `playerid`, so feel free to use a natural join."
   ]
  },
  {
   "cell_type": "code",
   "execution_count": 99,
   "metadata": {},
   "outputs": [
    {
     "name": "stdout",
     "output_type": "stream",
     "text": [
      " * postgresql://jovyan@127.0.0.1:5432/baseball\n",
      "   postgresql://jovyan@127.0.0.1:5432/postgres\n",
      "216 rows affected.\n",
      "Returning data to local variable result_4eiii\n"
     ]
    }
   ],
   "source": [
    "%%sql result_4eiii <<\n",
    "SELECT a.playerid, a.yearid, s.salary\n",
    "FROM appearances a NATURAL JOIN salaries s\n",
    "WHERE a.g_batting = 10 or a.g_all = 10"
   ]
  },
  {
   "cell_type": "code",
   "execution_count": 100,
   "metadata": {},
   "outputs": [],
   "source": [
    "# Do not delete/edit this cell\n",
    "result_4eiii.DataFrame().sort_values(['playerid', 'yearid']).to_csv('results/result_4eiii.csv', index=False)"
   ]
  },
  {
   "cell_type": "code",
   "execution_count": 101,
   "metadata": {
    "deletable": false,
    "editable": false
   },
   "outputs": [
    {
     "data": {
      "text/html": [
       "<p><strong><pre style='display: inline;'>q4eiii_part1</pre></strong> passed!</p>"
      ],
      "text/plain": [
       "q4eiii_part1 results: All test cases passed!"
      ]
     },
     "execution_count": 101,
     "metadata": {},
     "output_type": "execute_result"
    }
   ],
   "source": [
    "grader.check(\"q4eiii_part1\")"
   ]
  },
  {
   "cell_type": "code",
   "execution_count": 102,
   "metadata": {},
   "outputs": [
    {
     "name": "stdout",
     "output_type": "stream",
     "text": [
      "                                                                             QUERY PLAN                                                                             \r\n",
      "--------------------------------------------------------------------------------------------------------------------------------------------------------------------\r\n",
      " Hash Join  (cost=3187.98..3924.75 rows=1 width=21) (actual time=16.429..24.503 rows=216 loops=1)\r\n",
      "   Hash Cond: ((s.yearid = a.yearid) AND ((s.teamid)::text = (a.teamid)::text) AND ((s.lgid)::text = (a.lgid)::text) AND ((s.playerid)::text = (a.playerid)::text))\r\n",
      "   ->  Seq Scan on salaries s  (cost=0.00..459.28 rows=26428 width=28) (actual time=0.019..2.173 rows=26428 loops=1)\r\n",
      "   ->  Hash  (cost=3133.84..3133.84 rows=2707 width=20) (actual time=16.193..16.195 rows=1655 loops=1)\r\n",
      "         Buckets: 4096  Batches: 1  Memory Usage: 121kB\r\n",
      "         ->  Seq Scan on appearances a  (cost=0.00..3133.84 rows=2707 width=20) (actual time=0.016..15.423 rows=1655 loops=1)\r\n",
      "               Filter: ((g_batting = 10) OR (g_all = 10))\r\n",
      "               Rows Removed by Filter: 102601\r\n",
      " Planning Time: 1.773 ms\r\n",
      " Execution Time: 24.591 ms\r\n",
      "(10 rows)\r\n",
      "\r\n"
     ]
    }
   ],
   "source": [
    "result_4eiii_query_str = \"SELECT a.playerid, a.yearid, s.salary \\\n",
    "FROM appearances a NATURAL JOIN salaries s \\\n",
    "WHERE a.g_batting = 10 or a.g_all = 10\"\n",
    "!psql -h localhost -d baseball -c \"explain analyze $result_4eiii_query_str\""
   ]
  },
  {
   "cell_type": "code",
   "execution_count": 103,
   "metadata": {},
   "outputs": [],
   "source": [
    "result_4eiii_cost = 3924.75\n",
    "result_4eiii_timing = 24.591"
   ]
  },
  {
   "cell_type": "code",
   "execution_count": 104,
   "metadata": {
    "deletable": false,
    "editable": false
   },
   "outputs": [
    {
     "data": {
      "text/html": [
       "<p><strong><pre style='display: inline;'>q4eiii_part2</pre></strong> passed!</p>"
      ],
      "text/plain": [
       "q4eiii_part2 results: All test cases passed!"
      ]
     },
     "execution_count": 104,
     "metadata": {},
     "output_type": "execute_result"
    }
   ],
   "source": [
    "grader.check(\"q4eiii_part2\")"
   ]
  },
  {
   "cell_type": "markdown",
   "metadata": {},
   "source": [
    "#### Question 4eiv\n",
    "Now, let's see the impact of adding an index on `g_batting` column will have on the query. Re-create the index and re-inspect the query from `Question 4eiii` and record the execution time and cost."
   ]
  },
  {
   "cell_type": "code",
   "execution_count": 105,
   "metadata": {
    "scrolled": true
   },
   "outputs": [
    {
     "name": "stdout",
     "output_type": "stream",
     "text": [
      " * postgresql://jovyan@127.0.0.1:5432/baseball\n",
      "   postgresql://jovyan@127.0.0.1:5432/postgres\n",
      "Done.\n",
      "Returning data to local variable result_4eiv\n"
     ]
    }
   ],
   "source": [
    "%%sql result_4eiv << \n",
    "CREATE INDEX g_batting_idx\n",
    "ON appearances (g_batting);"
   ]
  },
  {
   "cell_type": "code",
   "execution_count": 106,
   "metadata": {},
   "outputs": [
    {
     "name": "stdout",
     "output_type": "stream",
     "text": [
      "                                                                             QUERY PLAN                                                                             \r\n",
      "--------------------------------------------------------------------------------------------------------------------------------------------------------------------\r\n",
      " Hash Join  (cost=3187.98..3924.75 rows=1 width=21) (actual time=16.030..24.210 rows=216 loops=1)\r\n",
      "   Hash Cond: ((s.yearid = a.yearid) AND ((s.teamid)::text = (a.teamid)::text) AND ((s.lgid)::text = (a.lgid)::text) AND ((s.playerid)::text = (a.playerid)::text))\r\n",
      "   ->  Seq Scan on salaries s  (cost=0.00..459.28 rows=26428 width=28) (actual time=0.018..2.230 rows=26428 loops=1)\r\n",
      "   ->  Hash  (cost=3133.84..3133.84 rows=2707 width=20) (actual time=15.762..15.766 rows=1655 loops=1)\r\n",
      "         Buckets: 4096  Batches: 1  Memory Usage: 121kB\r\n",
      "         ->  Seq Scan on appearances a  (cost=0.00..3133.84 rows=2707 width=20) (actual time=0.015..15.050 rows=1655 loops=1)\r\n",
      "               Filter: ((g_batting = 10) OR (g_all = 10))\r\n",
      "               Rows Removed by Filter: 102601\r\n",
      " Planning Time: 1.913 ms\r\n",
      " Execution Time: 24.304 ms\r\n",
      "(10 rows)\r\n",
      "\r\n"
     ]
    }
   ],
   "source": [
    "!psql -h localhost -d baseball -c \"explain analyze $result_4eiii_query_str\""
   ]
  },
  {
   "cell_type": "code",
   "execution_count": 107,
   "metadata": {},
   "outputs": [],
   "source": [
    "result_4eiv_with_index_cost = 3924.75\n",
    "result_4eiv_with_index_timing = 24.304"
   ]
  },
  {
   "cell_type": "code",
   "execution_count": 108,
   "metadata": {
    "deletable": false,
    "editable": false
   },
   "outputs": [
    {
     "data": {
      "text/html": [
       "<p><strong><pre style='display: inline;'>q4eiv</pre></strong> passed!</p>"
      ],
      "text/plain": [
       "q4eiv results: All test cases passed!"
      ]
     },
     "execution_count": 108,
     "metadata": {},
     "output_type": "execute_result"
    }
   ],
   "source": [
    "grader.check(\"q4eiv\")"
   ]
  },
  {
   "cell_type": "markdown",
   "metadata": {},
   "source": [
    "In the following question, we will further explore the impact of indexes on query performance. To avoid any interference from the index on the `g_batting` column, drop the index before moving onto the next question."
   ]
  },
  {
   "cell_type": "code",
   "execution_count": 109,
   "metadata": {},
   "outputs": [
    {
     "name": "stdout",
     "output_type": "stream",
     "text": [
      " * postgresql://jovyan@127.0.0.1:5432/baseball\n",
      "   postgresql://jovyan@127.0.0.1:5432/postgres\n",
      "Done.\n"
     ]
    },
    {
     "data": {
      "text/plain": [
       "[]"
      ]
     },
     "execution_count": 109,
     "metadata": {},
     "output_type": "execute_result"
    }
   ],
   "source": [
    "%%sql \n",
    "DROP INDEX g_batting_idx;"
   ]
  },
  {
   "cell_type": "markdown",
   "metadata": {},
   "source": [
    "#### Question 4ev:\n",
    "Now, create a multiple column index on `g_batting` and `g_all` called `g_batting_g_all_idx` and record the query execution time and cost."
   ]
  },
  {
   "cell_type": "code",
   "execution_count": 110,
   "metadata": {},
   "outputs": [
    {
     "name": "stdout",
     "output_type": "stream",
     "text": [
      " * postgresql://jovyan@127.0.0.1:5432/baseball\n",
      "   postgresql://jovyan@127.0.0.1:5432/postgres\n",
      "Done.\n",
      "Returning data to local variable result_4v\n"
     ]
    }
   ],
   "source": [
    "%%sql result_4v <<\n",
    "CREATE INDEX g_batting_g_all_idx\n",
    "ON appearances (g_batting, g_all);"
   ]
  },
  {
   "cell_type": "code",
   "execution_count": 111,
   "metadata": {},
   "outputs": [
    {
     "name": "stdout",
     "output_type": "stream",
     "text": [
      "                                                                             QUERY PLAN                                                                             \r\n",
      "--------------------------------------------------------------------------------------------------------------------------------------------------------------------\r\n",
      " Hash Join  (cost=2892.77..3629.54 rows=1 width=21) (actual time=4.777..12.621 rows=216 loops=1)\r\n",
      "   Hash Cond: ((s.yearid = a.yearid) AND ((s.teamid)::text = (a.teamid)::text) AND ((s.lgid)::text = (a.lgid)::text) AND ((s.playerid)::text = (a.playerid)::text))\r\n",
      "   ->  Seq Scan on salaries s  (cost=0.00..459.28 rows=26428 width=28) (actual time=0.015..2.087 rows=26428 loops=1)\r\n",
      "   ->  Hash  (cost=2838.63..2838.63 rows=2707 width=20) (actual time=4.573..4.578 rows=1655 loops=1)\r\n",
      "         Buckets: 4096  Batches: 1  Memory Usage: 121kB\r\n",
      "         ->  Bitmap Heap Scan on appearances a  (cost=1181.19..2838.63 rows=2707 width=20) (actual time=1.340..4.058 rows=1655 loops=1)\r\n",
      "               Recheck Cond: ((g_batting = 10) OR (g_all = 10))\r\n",
      "               Heap Blocks: exact=1027\r\n",
      "               ->  BitmapOr  (cost=1181.19..1181.19 rows=2725 width=0) (actual time=1.183..1.185 rows=0 loops=1)\r\n",
      "                     ->  Bitmap Index Scan on g_batting_g_all_idx  (cost=0.00..17.62 rows=1244 width=0) (actual time=0.219..0.220 rows=1347 loops=1)\r\n",
      "                           Index Cond: (g_batting = 10)\r\n",
      "                     ->  Bitmap Index Scan on g_batting_g_all_idx  (cost=0.00..1162.21 rows=1480 width=0) (actual time=0.963..0.963 rows=1597 loops=1)\r\n",
      "                           Index Cond: (g_all = 10)\r\n",
      " Planning Time: 1.837 ms\r\n",
      " Execution Time: 12.753 ms\r\n",
      "(15 rows)\r\n",
      "\r\n"
     ]
    }
   ],
   "source": [
    "!psql -h localhost -d baseball -c \"explain analyze $result_4eiii_query_str\""
   ]
  },
  {
   "cell_type": "code",
   "execution_count": 112,
   "metadata": {},
   "outputs": [],
   "source": [
    "result_4ev_multiple_col_index_cost = 3629.54\n",
    "result_4ev_multiple_col_index_timing = 12.569"
   ]
  },
  {
   "cell_type": "code",
   "execution_count": 113,
   "metadata": {
    "deletable": false,
    "editable": false
   },
   "outputs": [
    {
     "data": {
      "text/html": [
       "<p><strong><pre style='display: inline;'>q4ev</pre></strong> passed!</p>"
      ],
      "text/plain": [
       "q4ev results: All test cases passed!"
      ]
     },
     "execution_count": 113,
     "metadata": {},
     "output_type": "execute_result"
    }
   ],
   "source": [
    "grader.check(\"q4ev\")"
   ]
  },
  {
   "cell_type": "code",
   "execution_count": 114,
   "metadata": {},
   "outputs": [
    {
     "name": "stdout",
     "output_type": "stream",
     "text": [
      " * postgresql://jovyan@127.0.0.1:5432/baseball\n",
      "   postgresql://jovyan@127.0.0.1:5432/postgres\n",
      "Done.\n"
     ]
    },
    {
     "data": {
      "text/plain": [
       "[]"
      ]
     },
     "execution_count": 114,
     "metadata": {},
     "output_type": "execute_result"
    }
   ],
   "source": [
    "%%sql\n",
    "DROP INDEX g_batting_g_all_idx"
   ]
  },
  {
   "cell_type": "markdown",
   "metadata": {
    "deletable": false,
    "editable": false
   },
   "source": [
    "#### Question 4evi:\n",
    "Given your findings from inspecting the query plans from `Question 4e`, answer the following question. Assign the variable `q4e_part6` to a list of all statements that are true.\n",
    "\n",
    "1. Consider the following statements:\n",
    "    1. Adding an index on a column used in an AND predicate will reduce the query time, but not the execution cost.\n",
    "    1. Adding an index on a column used in an AND predicate will reduce the query cost, but not the execution time.\n",
    "    1. Adding an index on a column used in an AND predicate will reduce the query cost and the execution time.\n",
    "    1. Adding an index on a column used in an OR predicate will reduce the query time, but not the execution cost.\n",
    "    1. Adding an index on a column used in an OR predicate will reduce the query cost, but not the execution time.\n",
    "    1. Adding an index on a column used in an OR predicate will reduce the query cost and the execution time.\n",
    "    1. Adding a mutlicolumn index on columns in an OR predicate will reduce the query time, but not the execution cost.\n",
    "    1. Adding a mutlicolumn index on columns in an OR predicate will reduce the query cost, but not the execution time.\n",
    "    1. Adding a mutlicolumn index on columns in an OR predicate will reduce the query cost and the execution time.\n",
    "\n",
    "**Note:** Your answer should be formatted as follows: `q4e_part6 = ['A', 'B']`\n",
    "\n",
    "<!--\n",
    "BEGIN QUESTION\n",
    "name: q4evi\n",
    "points: 2\n",
    "-->"
   ]
  },
  {
   "cell_type": "code",
   "execution_count": 115,
   "metadata": {},
   "outputs": [],
   "source": [
    "q4e_part6 = ['C', 'I']"
   ]
  },
  {
   "cell_type": "code",
   "execution_count": 116,
   "metadata": {
    "deletable": false,
    "editable": false
   },
   "outputs": [
    {
     "data": {
      "text/html": [
       "<p><strong><pre style='display: inline;'>q4evi</pre></strong> passed!</p>"
      ],
      "text/plain": [
       "q4evi results: All test cases passed!"
      ]
     },
     "execution_count": 116,
     "metadata": {},
     "output_type": "execute_result"
    }
   ],
   "source": [
    "grader.check(\"q4evi\")"
   ]
  },
  {
   "cell_type": "markdown",
   "metadata": {
    "deletable": false,
    "editable": false
   },
   "source": [
    "<!-- BEGIN QUESTION -->\n",
    "\n",
    "#### Question 4evii\n",
    "\n",
    "Explain your answer to the previous part based on your knowledge from lectures, and details of the query plans (your explanation should include why you didn't choose certain options).\n",
    "\n",
    "<!--\n",
    "BEGIN QUESTION\n",
    "name: q4evii\n",
    "manual: true\n",
    "points: 2\n",
    "-->"
   ]
  },
  {
   "cell_type": "markdown",
   "metadata": {},
   "source": [
    "With index on a column used in an AND predicate, the query will only look over tuples that satisfy constraints instead of scanning all tuples, so choose C that reduce time and cost.\n",
    "\n",
    "With index on a column used in an OR predicate, the query will, like without any index, scan all tuples, so the cost and time basically is the same as those with no index, and therefore D E F is incorrect.\n",
    "\n",
    "With multicolumn index on a column used in an OR predicate, the query will scan tuples based on the two constraints together, and index is being used in a hash merge, so it helps reduce pages that need examination and reduce cost and time. Choose I.\n",
    "\n"
   ]
  },
  {
   "cell_type": "markdown",
   "metadata": {},
   "source": [
    "<!-- END QUESTION -->\n",
    "\n",
    "\n",
    "\n",
    "## Question 5: More Indexes\n",
    "### Question 5a:\n",
    "Write 2 queries: one that finds the minimum salary from the salary table and one that finds the average. Inspect the queries' query plans and record their execution times and costs."
   ]
  },
  {
   "cell_type": "code",
   "execution_count": 117,
   "metadata": {},
   "outputs": [
    {
     "name": "stdout",
     "output_type": "stream",
     "text": [
      " * postgresql://jovyan@127.0.0.1:5432/baseball\n",
      "   postgresql://jovyan@127.0.0.1:5432/postgres\n",
      "1 rows affected.\n",
      "Returning data to local variable result_5a_min\n"
     ]
    }
   ],
   "source": [
    "%%sql result_5a_min << \n",
    "SELECT min(salary)\n",
    "FROM salaries"
   ]
  },
  {
   "cell_type": "code",
   "execution_count": 118,
   "metadata": {},
   "outputs": [
    {
     "name": "stdout",
     "output_type": "stream",
     "text": [
      "                                                    QUERY PLAN                                                    \r\n",
      "------------------------------------------------------------------------------------------------------------------\r\n",
      " Aggregate  (cost=525.35..525.36 rows=1 width=8) (actual time=4.771..4.772 rows=1 loops=1)\r\n",
      "   ->  Seq Scan on salaries  (cost=0.00..459.28 rows=26428 width=8) (actual time=0.015..2.205 rows=26428 loops=1)\r\n",
      " Planning Time: 0.572 ms\r\n",
      " Execution Time: 4.852 ms\r\n",
      "(4 rows)\r\n",
      "\r\n"
     ]
    }
   ],
   "source": [
    "result_5a_min_query_str = \"SELECT min(salary) FROM salaries\"\n",
    "!psql -h localhost -d baseball -c \"explain analyze $result_5a_min_query_str\""
   ]
  },
  {
   "cell_type": "code",
   "execution_count": 119,
   "metadata": {},
   "outputs": [],
   "source": [
    "result_5a_min_query_cost = 525.36\n",
    "result_5a_min_query_timing = 4.852"
   ]
  },
  {
   "cell_type": "code",
   "execution_count": 120,
   "metadata": {
    "deletable": false,
    "editable": false
   },
   "outputs": [
    {
     "data": {
      "text/html": [
       "<p><strong><pre style='display: inline;'>q5ai</pre></strong> passed!</p>"
      ],
      "text/plain": [
       "q5ai results: All test cases passed!"
      ]
     },
     "execution_count": 120,
     "metadata": {},
     "output_type": "execute_result"
    }
   ],
   "source": [
    "grader.check(\"q5ai\")"
   ]
  },
  {
   "cell_type": "code",
   "execution_count": 121,
   "metadata": {},
   "outputs": [
    {
     "name": "stdout",
     "output_type": "stream",
     "text": [
      " * postgresql://jovyan@127.0.0.1:5432/baseball\n",
      "   postgresql://jovyan@127.0.0.1:5432/postgres\n",
      "1 rows affected.\n",
      "Returning data to local variable result_5a_avg\n"
     ]
    }
   ],
   "source": [
    "%%sql result_5a_avg <<\n",
    "SELECT avg(salary)\n",
    "FROM salaries"
   ]
  },
  {
   "cell_type": "code",
   "execution_count": 122,
   "metadata": {},
   "outputs": [
    {
     "name": "stdout",
     "output_type": "stream",
     "text": [
      "                                                    QUERY PLAN                                                    \r\n",
      "------------------------------------------------------------------------------------------------------------------\r\n",
      " Aggregate  (cost=525.35..525.36 rows=1 width=8) (actual time=5.087..5.089 rows=1 loops=1)\r\n",
      "   ->  Seq Scan on salaries  (cost=0.00..459.28 rows=26428 width=8) (actual time=0.013..2.092 rows=26428 loops=1)\r\n",
      " Planning Time: 0.410 ms\r\n",
      " Execution Time: 5.162 ms\r\n",
      "(4 rows)\r\n",
      "\r\n"
     ]
    }
   ],
   "source": [
    "result_5a_avg_query_str = \"SELECT avg(salary) FROM salaries\"\n",
    "!psql -h localhost -d baseball -c \"explain analyze $result_5a_avg_query_str\""
   ]
  },
  {
   "cell_type": "code",
   "execution_count": 123,
   "metadata": {},
   "outputs": [],
   "source": [
    "result_5a_avg_query_cost = 525.36\n",
    "result_5a_avg_query_timing = 5.162"
   ]
  },
  {
   "cell_type": "code",
   "execution_count": 124,
   "metadata": {
    "deletable": false,
    "editable": false
   },
   "outputs": [
    {
     "data": {
      "text/html": [
       "<p><strong><pre style='display: inline;'>q5aii</pre></strong> passed!</p>"
      ],
      "text/plain": [
       "q5aii results: All test cases passed!"
      ]
     },
     "execution_count": 124,
     "metadata": {},
     "output_type": "execute_result"
    }
   ],
   "source": [
    "grader.check(\"q5aii\")"
   ]
  },
  {
   "cell_type": "markdown",
   "metadata": {},
   "source": [
    "### Question 5b:\n",
    "Create an index on the `salary` column in the `salaries` table and re-inspect the query plans from the previous part and record the respective execution time and cost."
   ]
  },
  {
   "cell_type": "code",
   "execution_count": 125,
   "metadata": {},
   "outputs": [
    {
     "name": "stdout",
     "output_type": "stream",
     "text": [
      " * postgresql://jovyan@127.0.0.1:5432/baseball\n",
      "   postgresql://jovyan@127.0.0.1:5432/postgres\n",
      "Done.\n"
     ]
    },
    {
     "data": {
      "text/plain": [
       "[]"
      ]
     },
     "execution_count": 125,
     "metadata": {},
     "output_type": "execute_result"
    }
   ],
   "source": [
    "%%sql \n",
    "CREATE INDEX salary_idx\n",
    "ON salaries(salary);"
   ]
  },
  {
   "cell_type": "code",
   "execution_count": 126,
   "metadata": {},
   "outputs": [
    {
     "name": "stdout",
     "output_type": "stream",
     "text": [
      "                                                                  QUERY PLAN                                                                  \r\n",
      "----------------------------------------------------------------------------------------------------------------------------------------------\r\n",
      " Result  (cost=0.32..0.33 rows=1 width=8) (actual time=0.062..0.063 rows=1 loops=1)\r\n",
      "   InitPlan 1 (returns $0)\r\n",
      "     ->  Limit  (cost=0.29..0.32 rows=1 width=8) (actual time=0.060..0.060 rows=1 loops=1)\r\n",
      "           ->  Index Only Scan using salary_idx on salaries  (cost=0.29..762.78 rows=26428 width=8) (actual time=0.058..0.059 rows=1 loops=1)\r\n",
      "                 Index Cond: (salary IS NOT NULL)\r\n",
      "                 Heap Fetches: 0\r\n",
      " Planning Time: 0.672 ms\r\n",
      " Execution Time: 0.128 ms\r\n",
      "(8 rows)\r\n",
      "\r\n"
     ]
    }
   ],
   "source": [
    "!psql -h localhost -d baseball -c \"explain analyze $result_5a_min_query_str\""
   ]
  },
  {
   "cell_type": "code",
   "execution_count": 127,
   "metadata": {},
   "outputs": [],
   "source": [
    "result_5b_min_query_cost = 0.33\n",
    "result_5b_min_query_timing = 0.116"
   ]
  },
  {
   "cell_type": "code",
   "execution_count": 128,
   "metadata": {
    "deletable": false,
    "editable": false
   },
   "outputs": [
    {
     "data": {
      "text/html": [
       "<p><strong><pre style='display: inline;'>q5bi</pre></strong> passed!</p>"
      ],
      "text/plain": [
       "q5bi results: All test cases passed!"
      ]
     },
     "execution_count": 128,
     "metadata": {},
     "output_type": "execute_result"
    }
   ],
   "source": [
    "grader.check(\"q5bi\")"
   ]
  },
  {
   "cell_type": "code",
   "execution_count": 129,
   "metadata": {},
   "outputs": [
    {
     "name": "stdout",
     "output_type": "stream",
     "text": [
      "                                                    QUERY PLAN                                                    \r\n",
      "------------------------------------------------------------------------------------------------------------------\r\n",
      " Aggregate  (cost=525.35..525.36 rows=1 width=8) (actual time=5.129..5.130 rows=1 loops=1)\r\n",
      "   ->  Seq Scan on salaries  (cost=0.00..459.28 rows=26428 width=8) (actual time=0.015..2.144 rows=26428 loops=1)\r\n",
      " Planning Time: 0.506 ms\r\n",
      " Execution Time: 5.230 ms\r\n",
      "(4 rows)\r\n",
      "\r\n"
     ]
    }
   ],
   "source": [
    "!psql -h localhost -d baseball -c \"explain analyze $result_5a_avg_query_str\""
   ]
  },
  {
   "cell_type": "code",
   "execution_count": 130,
   "metadata": {},
   "outputs": [],
   "source": [
    "result_5b_avg_query_cost = 525.36\n",
    "result_5b_avg_query_timing = 5.230"
   ]
  },
  {
   "cell_type": "code",
   "execution_count": 131,
   "metadata": {
    "deletable": false,
    "editable": false
   },
   "outputs": [
    {
     "data": {
      "text/html": [
       "<p><strong><pre style='display: inline;'>q5bii</pre></strong> passed!</p>"
      ],
      "text/plain": [
       "q5bii results: All test cases passed!"
      ]
     },
     "execution_count": 131,
     "metadata": {},
     "output_type": "execute_result"
    }
   ],
   "source": [
    "grader.check(\"q5bii\")"
   ]
  },
  {
   "cell_type": "markdown",
   "metadata": {},
   "source": [
    "In the following questions, we will further explore the impact of indexes on query performance. To avoid any interference from the index on the `salary` column, drop the index before moving onto the next question."
   ]
  },
  {
   "cell_type": "code",
   "execution_count": 132,
   "metadata": {},
   "outputs": [
    {
     "name": "stdout",
     "output_type": "stream",
     "text": [
      " * postgresql://jovyan@127.0.0.1:5432/baseball\n",
      "   postgresql://jovyan@127.0.0.1:5432/postgres\n",
      "Done.\n"
     ]
    },
    {
     "data": {
      "text/plain": [
       "[]"
      ]
     },
     "execution_count": 132,
     "metadata": {},
     "output_type": "execute_result"
    }
   ],
   "source": [
    "%%sql \n",
    "DROP INDEX salary_idx;"
   ]
  },
  {
   "cell_type": "markdown",
   "metadata": {
    "deletable": false,
    "editable": false
   },
   "source": [
    "### Question 5c:\n",
    "Given your findings from `Question 5a-b`, answer the following question. Assign the variable `q5c` to the correct answer choice.\n",
    "\n",
    "1. Which of the following statements is true?\n",
    "    1. An index on the column being aggregated in a query will always provide a performance enhancement.\n",
    "    1. A query finding the MIN(salary) will always benefit from an index on salary, but a query finding MAX(salary) will not.\n",
    "    1. A query finding the COUNT(salary) will always benefit from an index on salary, but a query finding AVG(salary) will not.\n",
    "    1. Queries finding the MIN(salary) or MAX(salary) will always benefit from an index on salary, but queries finding AVG(salary) or COUNT(salary) will not.\n",
    "\n",
    "*Note:* Your answer should be formatted as follows: `q5c = ['A', 'B']`\n",
    "\n",
    "<!--\n",
    "BEGIN QUESTION\n",
    "name: q5c\n",
    "points: 1\n",
    "-->"
   ]
  },
  {
   "cell_type": "code",
   "execution_count": 133,
   "metadata": {},
   "outputs": [],
   "source": [
    "q5c = ['D']"
   ]
  },
  {
   "cell_type": "code",
   "execution_count": 134,
   "metadata": {
    "deletable": false,
    "editable": false
   },
   "outputs": [
    {
     "data": {
      "text/html": [
       "<p><strong><pre style='display: inline;'>q5c</pre></strong> passed!</p>"
      ],
      "text/plain": [
       "q5c results: All test cases passed!"
      ]
     },
     "execution_count": 134,
     "metadata": {},
     "output_type": "execute_result"
    }
   ],
   "source": [
    "grader.check(\"q5c\")"
   ]
  },
  {
   "cell_type": "markdown",
   "metadata": {
    "deletable": false,
    "editable": false
   },
   "source": [
    "<!-- BEGIN QUESTION -->\n",
    "\n",
    "### Question 5d:\n",
    "\n",
    "Explain your answer to the previous part based on your knowledge from lectures, and your inspection of the query plans.\n",
    "\n",
    "<!--\n",
    "BEGIN QUESTION\n",
    "name: q5d\n",
    "manual: true\n",
    "points: 2\n",
    "-->"
   ]
  },
  {
   "cell_type": "markdown",
   "metadata": {},
   "source": [
    "For min and max, index is good at searching for the smallest or largest value in a B+ tree, but AVG and Count have to scan all tuples so they will not benefit from index."
   ]
  },
  {
   "cell_type": "markdown",
   "metadata": {},
   "source": [
    "<!-- END QUESTION -->\n",
    "\n",
    "\n",
    "\n",
    "## Question 6: Clustered Indexes\n",
    "In this question, we will inspect the impact that clustering our data on an index can have on a query's performance.\n",
    "\n",
    "### Question 6a\n",
    "Write a query that finds the `playerid`, `yearid`, `teamid`, and `ab` for all players whose `ab` was above 500. Inspect the query plan and record the execution time and cost."
   ]
  },
  {
   "cell_type": "code",
   "execution_count": 135,
   "metadata": {},
   "outputs": [
    {
     "name": "stdout",
     "output_type": "stream",
     "text": [
      " * postgresql://jovyan@127.0.0.1:5432/baseball\n",
      "   postgresql://jovyan@127.0.0.1:5432/postgres\n",
      "8839 rows affected.\n",
      "Returning data to local variable result_6a\n"
     ]
    }
   ],
   "source": [
    "%%sql result_6a <<\n",
    "SELECT a.playerid, a.yearid, a.teamid, ab\n",
    "FROM appearances a NATURAL JOIN batting\n",
    "WHERE ab > 500;"
   ]
  },
  {
   "cell_type": "code",
   "execution_count": 136,
   "metadata": {},
   "outputs": [],
   "source": [
    "# Do not delete/edit this cell\n",
    "result_6a.DataFrame().sort_values(['playerid', 'yearid', 'teamid']).iloc[:1000].to_csv('results/result_6a.csv', index=False)"
   ]
  },
  {
   "cell_type": "code",
   "execution_count": 137,
   "metadata": {},
   "outputs": [
    {
     "data": {
      "text/html": [
       "<div>\n",
       "<style scoped>\n",
       "    .dataframe tbody tr th:only-of-type {\n",
       "        vertical-align: middle;\n",
       "    }\n",
       "\n",
       "    .dataframe tbody tr th {\n",
       "        vertical-align: top;\n",
       "    }\n",
       "\n",
       "    .dataframe thead th {\n",
       "        text-align: right;\n",
       "    }\n",
       "</style>\n",
       "<table border=\"1\" class=\"dataframe\">\n",
       "  <thead>\n",
       "    <tr style=\"text-align: right;\">\n",
       "      <th></th>\n",
       "      <th>playerid</th>\n",
       "      <th>yearid</th>\n",
       "      <th>teamid</th>\n",
       "      <th>ab</th>\n",
       "    </tr>\n",
       "  </thead>\n",
       "  <tbody>\n",
       "    <tr>\n",
       "      <th>0</th>\n",
       "      <td>aaronha01</td>\n",
       "      <td>1955</td>\n",
       "      <td>ML1</td>\n",
       "      <td>602</td>\n",
       "    </tr>\n",
       "    <tr>\n",
       "      <th>1</th>\n",
       "      <td>aaronha01</td>\n",
       "      <td>1956</td>\n",
       "      <td>ML1</td>\n",
       "      <td>609</td>\n",
       "    </tr>\n",
       "    <tr>\n",
       "      <th>2</th>\n",
       "      <td>aaronha01</td>\n",
       "      <td>1957</td>\n",
       "      <td>ML1</td>\n",
       "      <td>615</td>\n",
       "    </tr>\n",
       "    <tr>\n",
       "      <th>3</th>\n",
       "      <td>aaronha01</td>\n",
       "      <td>1958</td>\n",
       "      <td>ML1</td>\n",
       "      <td>601</td>\n",
       "    </tr>\n",
       "    <tr>\n",
       "      <th>4</th>\n",
       "      <td>aaronha01</td>\n",
       "      <td>1959</td>\n",
       "      <td>ML1</td>\n",
       "      <td>629</td>\n",
       "    </tr>\n",
       "    <tr>\n",
       "      <th>...</th>\n",
       "      <td>...</td>\n",
       "      <td>...</td>\n",
       "      <td>...</td>\n",
       "      <td>...</td>\n",
       "    </tr>\n",
       "    <tr>\n",
       "      <th>995</th>\n",
       "      <td>brownji03</td>\n",
       "      <td>1942</td>\n",
       "      <td>SLN</td>\n",
       "      <td>606</td>\n",
       "    </tr>\n",
       "    <tr>\n",
       "      <th>996</th>\n",
       "      <td>brownol02</td>\n",
       "      <td>1969</td>\n",
       "      <td>SDN</td>\n",
       "      <td>568</td>\n",
       "    </tr>\n",
       "    <tr>\n",
       "      <th>997</th>\n",
       "      <td>brownol02</td>\n",
       "      <td>1970</td>\n",
       "      <td>SDN</td>\n",
       "      <td>534</td>\n",
       "    </tr>\n",
       "    <tr>\n",
       "      <th>998</th>\n",
       "      <td>brownpe01</td>\n",
       "      <td>1887</td>\n",
       "      <td>LS2</td>\n",
       "      <td>547</td>\n",
       "    </tr>\n",
       "    <tr>\n",
       "      <th>999</th>\n",
       "      <td>brownto01</td>\n",
       "      <td>1890</td>\n",
       "      <td>BSP</td>\n",
       "      <td>558</td>\n",
       "    </tr>\n",
       "  </tbody>\n",
       "</table>\n",
       "<p>1000 rows × 4 columns</p>\n",
       "</div>"
      ],
      "text/plain": [
       "      playerid  yearid teamid   ab\n",
       "0    aaronha01    1955    ML1  602\n",
       "1    aaronha01    1956    ML1  609\n",
       "2    aaronha01    1957    ML1  615\n",
       "3    aaronha01    1958    ML1  601\n",
       "4    aaronha01    1959    ML1  629\n",
       "..         ...     ...    ...  ...\n",
       "995  brownji03    1942    SLN  606\n",
       "996  brownol02    1969    SDN  568\n",
       "997  brownol02    1970    SDN  534\n",
       "998  brownpe01    1887    LS2  547\n",
       "999  brownto01    1890    BSP  558\n",
       "\n",
       "[1000 rows x 4 columns]"
      ]
     },
     "execution_count": 137,
     "metadata": {},
     "output_type": "execute_result"
    }
   ],
   "source": [
    "pd.read_csv(\"results/result_6a.csv\")"
   ]
  },
  {
   "cell_type": "code",
   "execution_count": 138,
   "metadata": {
    "deletable": false,
    "editable": false
   },
   "outputs": [
    {
     "data": {
      "text/html": [
       "<p><strong><pre style='display: inline;'>q6ai</pre></strong> passed!</p>"
      ],
      "text/plain": [
       "q6ai results: All test cases passed!"
      ]
     },
     "execution_count": 138,
     "metadata": {},
     "output_type": "execute_result"
    }
   ],
   "source": [
    "grader.check(\"q6ai\")"
   ]
  },
  {
   "cell_type": "code",
   "execution_count": 139,
   "metadata": {},
   "outputs": [
    {
     "name": "stdout",
     "output_type": "stream",
     "text": [
      "                                                                                            QUERY PLAN                                                                                            \r\n",
      "--------------------------------------------------------------------------------------------------------------------------------------------------------------------------------------------------\r\n",
      " Gather  (cost=4409.81..6812.50 rows=7 width=21) (actual time=35.341..53.566 rows=8839 loops=1)\r\n",
      "   Workers Planned: 1\r\n",
      "   Workers Launched: 1\r\n",
      "   ->  Parallel Hash Join  (cost=3409.81..5811.80 rows=4 width=21) (actual time=32.399..44.606 rows=4420 loops=2)\r\n",
      "         Hash Cond: ((batting.yearid = a.yearid) AND ((batting.teamid)::text = (a.teamid)::text) AND ((batting.lgid)::text = (a.lgid)::text) AND ((batting.playerid)::text = (a.playerid)::text))\r\n",
      "         ->  Parallel Seq Scan on batting  (cost=0.00..2347.09 rows=5229 width=24) (actual time=0.187..8.668 rows=4420 loops=2)\r\n",
      "               Filter: (ab > 500)\r\n",
      "               Rows Removed by Filter: 47742\r\n",
      "         ->  Parallel Hash  (cost=2183.27..2183.27 rows=61327 width=20) (actual time=31.239..31.240 rows=52128 loops=2)\r\n",
      "               Buckets: 131072  Batches: 1  Memory Usage: 6784kB\r\n",
      "               ->  Parallel Seq Scan on appearances a  (cost=0.00..2183.27 rows=61327 width=20) (actual time=0.019..9.325 rows=52128 loops=2)\r\n",
      " Planning Time: 1.968 ms\r\n",
      " Execution Time: 54.007 ms\r\n",
      "(13 rows)\r\n",
      "\r\n"
     ]
    }
   ],
   "source": [
    "result_6a_query_str = \"SELECT a.playerid, a.yearid, a.teamid, ab \\\n",
    "FROM appearances a NATURAL JOIN batting \\\n",
    "WHERE ab > 500;\"\n",
    "!psql -h localhost -d baseball -c \"explain analyze $result_6a_query_str\""
   ]
  },
  {
   "cell_type": "code",
   "execution_count": 140,
   "metadata": {},
   "outputs": [],
   "source": [
    "result_6a_cost = 6812.50\n",
    "result_6a_timing = 54.007"
   ]
  },
  {
   "cell_type": "code",
   "execution_count": 141,
   "metadata": {
    "deletable": false,
    "editable": false
   },
   "outputs": [
    {
     "data": {
      "text/html": [
       "<p><strong><pre style='display: inline;'>q6aii</pre></strong> passed!</p>"
      ],
      "text/plain": [
       "q6aii results: All test cases passed!"
      ]
     },
     "execution_count": 141,
     "metadata": {},
     "output_type": "execute_result"
    }
   ],
   "source": [
    "grader.check(\"q6aii\")"
   ]
  },
  {
   "cell_type": "markdown",
   "metadata": {},
   "source": [
    "### Question 6b:\n",
    "Cluster the `batting` table on its primary key (hint: use `\\di` to find out what name of the primary key is). We are able to directly cluster on the primary key (without first creating a separate index) because Postgres automatically creates an index for it. Re-inspect the query plan for the query from `Question 6a` and record the execution time and cost."
   ]
  },
  {
   "cell_type": "code",
   "execution_count": 142,
   "metadata": {},
   "outputs": [
    {
     "name": "stdout",
     "output_type": "stream",
     "text": [
      " * postgresql://jovyan@127.0.0.1:5432/baseball\n",
      "   postgresql://jovyan@127.0.0.1:5432/postgres\n",
      "Done.\n"
     ]
    },
    {
     "data": {
      "text/plain": [
       "[]"
      ]
     },
     "execution_count": 142,
     "metadata": {},
     "output_type": "execute_result"
    }
   ],
   "source": [
    "%%sql \n",
    "CLUSTER batting USING batting_pkey"
   ]
  },
  {
   "cell_type": "code",
   "execution_count": 143,
   "metadata": {},
   "outputs": [
    {
     "name": "stdout",
     "output_type": "stream",
     "text": [
      "                                                                                            QUERY PLAN                                                                                            \r\n",
      "--------------------------------------------------------------------------------------------------------------------------------------------------------------------------------------------------\r\n",
      " Gather  (cost=4409.81..6806.50 rows=7 width=21) (actual time=35.954..54.499 rows=8839 loops=1)\r\n",
      "   Workers Planned: 1\r\n",
      "   Workers Launched: 1\r\n",
      "   ->  Parallel Hash Join  (cost=3409.81..5805.80 rows=4 width=21) (actual time=33.097..45.697 rows=4420 loops=2)\r\n",
      "         Hash Cond: ((batting.yearid = a.yearid) AND ((batting.teamid)::text = (a.teamid)::text) AND ((batting.lgid)::text = (a.lgid)::text) AND ((batting.playerid)::text = (a.playerid)::text))\r\n",
      "         ->  Parallel Seq Scan on batting  (cost=0.00..2341.09 rows=5229 width=24) (actual time=0.020..8.923 rows=4420 loops=2)\r\n",
      "               Filter: (ab > 500)\r\n",
      "               Rows Removed by Filter: 47742\r\n",
      "         ->  Parallel Hash  (cost=2183.27..2183.27 rows=61327 width=20) (actual time=32.133..32.134 rows=52128 loops=2)\r\n",
      "               Buckets: 131072  Batches: 1  Memory Usage: 6784kB\r\n",
      "               ->  Parallel Seq Scan on appearances a  (cost=0.00..2183.27 rows=61327 width=20) (actual time=0.016..9.710 rows=52128 loops=2)\r\n",
      " Planning Time: 2.027 ms\r\n",
      " Execution Time: 54.944 ms\r\n",
      "(13 rows)\r\n",
      "\r\n"
     ]
    }
   ],
   "source": [
    "!psql -h localhost -d baseball -c \"explain analyze $result_6a_query_str\""
   ]
  },
  {
   "cell_type": "code",
   "execution_count": 144,
   "metadata": {},
   "outputs": [],
   "source": [
    "result_6b_cost = 6806.50\n",
    "result_6b_timing = 54.944"
   ]
  },
  {
   "cell_type": "code",
   "execution_count": 145,
   "metadata": {
    "deletable": false,
    "editable": false
   },
   "outputs": [
    {
     "data": {
      "text/html": [
       "<p><strong><pre style='display: inline;'>q6b</pre></strong> passed!</p>"
      ],
      "text/plain": [
       "q6b results: All test cases passed!"
      ]
     },
     "execution_count": 145,
     "metadata": {},
     "output_type": "execute_result"
    }
   ],
   "source": [
    "grader.check(\"q6b\")"
   ]
  },
  {
   "cell_type": "markdown",
   "metadata": {},
   "source": [
    "### Question 6c\n",
    "Now, let's try clustering the table based on another index. Create an index on `ab` column called `ab_idx` in the `batting` table AND cluster the `batting` table with this new index. Now, re-inspect the query plan and record the execution time and cost."
   ]
  },
  {
   "cell_type": "code",
   "execution_count": 146,
   "metadata": {},
   "outputs": [
    {
     "name": "stdout",
     "output_type": "stream",
     "text": [
      " * postgresql://jovyan@127.0.0.1:5432/baseball\n",
      "   postgresql://jovyan@127.0.0.1:5432/postgres\n",
      "Done.\n",
      "Done.\n"
     ]
    },
    {
     "data": {
      "text/plain": [
       "[]"
      ]
     },
     "execution_count": 146,
     "metadata": {},
     "output_type": "execute_result"
    }
   ],
   "source": [
    "%%sql \n",
    "CREATE INDEX ab_idx ON batting(ab);\n",
    "CLUSTER batting USING ab_idx;"
   ]
  },
  {
   "cell_type": "code",
   "execution_count": 147,
   "metadata": {},
   "outputs": [
    {
     "name": "stdout",
     "output_type": "stream",
     "text": [
      "                                                                                            QUERY PLAN                                                                                            \r\n",
      "--------------------------------------------------------------------------------------------------------------------------------------------------------------------------------------------------\r\n",
      " Gather  (cost=4511.00..6206.97 rows=7 width=21) (actual time=34.352..44.242 rows=8839 loops=1)\r\n",
      "   Workers Planned: 1\r\n",
      "   Workers Launched: 1\r\n",
      "   ->  Parallel Hash Join  (cost=3511.00..5206.27 rows=4 width=21) (actual time=31.530..36.091 rows=4420 loops=2)\r\n",
      "         Hash Cond: ((batting.yearid = a.yearid) AND ((batting.teamid)::text = (a.teamid)::text) AND ((batting.lgid)::text = (a.lgid)::text) AND ((batting.playerid)::text = (a.playerid)::text))\r\n",
      "         ->  Parallel Bitmap Heap Scan on batting  (cost=101.19..1741.56 rows=5229 width=24) (actual time=0.398..1.127 rows=4420 loops=2)\r\n",
      "               Recheck Cond: (ab > 500)\r\n",
      "               Heap Blocks: exact=63\r\n",
      "               ->  Bitmap Index Scan on ab_idx  (cost=0.00..98.97 rows=8890 width=0) (actual time=0.335..0.336 rows=8839 loops=1)\r\n",
      "                     Index Cond: (ab > 500)\r\n",
      "         ->  Parallel Hash  (cost=2183.27..2183.27 rows=61327 width=20) (actual time=30.348..30.354 rows=52128 loops=2)\r\n",
      "               Buckets: 131072  Batches: 1  Memory Usage: 6752kB\r\n",
      "               ->  Parallel Seq Scan on appearances a  (cost=0.00..2183.27 rows=61327 width=20) (actual time=0.013..9.579 rows=52128 loops=2)\r\n",
      " Planning Time: 2.041 ms\r\n",
      " Execution Time: 44.695 ms\r\n",
      "(15 rows)\r\n",
      "\r\n"
     ]
    }
   ],
   "source": [
    "!psql -h localhost -d baseball -c \"explain analyze $result_6a_query_str\""
   ]
  },
  {
   "cell_type": "code",
   "execution_count": 148,
   "metadata": {},
   "outputs": [],
   "source": [
    "result_6c_cost = 6206.97\n",
    "result_6c_timing = 44.695"
   ]
  },
  {
   "cell_type": "code",
   "execution_count": 149,
   "metadata": {
    "deletable": false,
    "editable": false
   },
   "outputs": [
    {
     "data": {
      "text/html": [
       "<p><strong><pre style='display: inline;'>q6c</pre></strong> passed!</p>"
      ],
      "text/plain": [
       "q6c results: All test cases passed!"
      ]
     },
     "execution_count": 149,
     "metadata": {},
     "output_type": "execute_result"
    }
   ],
   "source": [
    "grader.check(\"q6c\")"
   ]
  },
  {
   "cell_type": "code",
   "execution_count": 150,
   "metadata": {},
   "outputs": [
    {
     "name": "stdout",
     "output_type": "stream",
     "text": [
      " * postgresql://jovyan@127.0.0.1:5432/baseball\n",
      "   postgresql://jovyan@127.0.0.1:5432/postgres\n",
      "Done.\n"
     ]
    },
    {
     "data": {
      "text/plain": [
       "[]"
      ]
     },
     "execution_count": 150,
     "metadata": {},
     "output_type": "execute_result"
    }
   ],
   "source": [
    "%sql DROP INDEX ab_idx"
   ]
  },
  {
   "cell_type": "markdown",
   "metadata": {
    "deletable": false,
    "editable": false
   },
   "source": [
    "### Question 6d\n",
    "Given your findings from inspecting the query plans from `Question 6a-c`, answer the following question. Assign the variable `q6d` to a list of all statements that are true.\n",
    "\n",
    "1. Consider the following statements:\n",
    "    1. Clustering based on the `ab_idx` decreased the cost of the query.\n",
    "    1. Clustering based on the `ab_idx` increased the cost of the query.\n",
    "    1. Clustering based on the `ab_idx` increased the execution time of the query.\n",
    "    1. Clustering based on the `ab_idx` decreased the execution time of the query.\n",
    "    1. Clustering based on the `batting_pkey` decreased the cost of the query.\n",
    "    1. Clustering based on the `batting_pkey` increased the cost of the query.\n",
    "    1. Clustering based on the `batting_pkey` increased the execution time of the query.\n",
    "    1. Clustering based on the `batting_pkey` decreased the execution time of the query.\n",
    "    1. None of the above\n",
    "    \n",
    "**Note:** Your answer should be formatted as follows: `q6d = ['A', 'B']`\n",
    "\n",
    "<!--\n",
    "BEGIN QUESTION\n",
    "name: q6d\n",
    "points: 2\n",
    "-->"
   ]
  },
  {
   "cell_type": "code",
   "execution_count": 151,
   "metadata": {},
   "outputs": [],
   "source": [
    "q6d = ['A','D','E','G']"
   ]
  },
  {
   "cell_type": "code",
   "execution_count": 152,
   "metadata": {
    "deletable": false,
    "editable": false
   },
   "outputs": [
    {
     "data": {
      "text/html": [
       "<p><strong><pre style='display: inline;'>q6d</pre></strong> passed!</p>"
      ],
      "text/plain": [
       "q6d results: All test cases passed!"
      ]
     },
     "execution_count": 152,
     "metadata": {},
     "output_type": "execute_result"
    }
   ],
   "source": [
    "grader.check(\"q6d\")"
   ]
  },
  {
   "cell_type": "markdown",
   "metadata": {
    "deletable": false,
    "editable": false
   },
   "source": [
    "<!-- BEGIN QUESTION -->\n",
    "\n",
    "### Question 6e:\n",
    "\n",
    "Explain your answer to the previous part based on your knowledge from lectures, and your inspection of the query plans (your explanation should include why you didn't choose certain options).\n",
    "\n",
    "<!--\n",
    "BEGIN QUESTION\n",
    "name: q6e\n",
    "manual: true\n",
    "points: 2\n",
    "-->"
   ]
  },
  {
   "cell_type": "markdown",
   "metadata": {},
   "source": [
    "The query filters on ab so ab_idx rather than batting_pkey so ab_idx works to a lower cost and time. Plus, batting_pkey does decrease the cost because scan a clustered index structue is a bit lighter than table scan, but it can also lead to a higher execution time due to the penalty of uncessary index."
   ]
  },
  {
   "cell_type": "markdown",
   "metadata": {},
   "source": [
    "<!-- END QUESTION -->\n",
    "\n",
    "\n",
    "\n",
    "## Question 7: Cost of Index Management\n",
    "Until now, we have seen the positive potential impact that indexes can have on query performance, but remember in real world technologies/applications, we will be routinely receiving new data (and in large quantities) which would trigger regular updates to our tables. In this section, we will dive into the cost of managing the indexes that we create.\n",
    "\n",
    "### Question 7a:\n",
    "Record the time it takes to insert 300,000 rows into the `salaries` table when no additional index is configured."
   ]
  },
  {
   "cell_type": "markdown",
   "metadata": {},
   "source": [
    "Run the following cell to setup a column to track which rows we added as part of these inserts."
   ]
  },
  {
   "cell_type": "code",
   "execution_count": 153,
   "metadata": {},
   "outputs": [
    {
     "name": "stdout",
     "output_type": "stream",
     "text": [
      " * postgresql://jovyan@127.0.0.1:5432/baseball\n",
      "   postgresql://jovyan@127.0.0.1:5432/postgres\n",
      "Done.\n"
     ]
    },
    {
     "data": {
      "text/plain": [
       "[]"
      ]
     },
     "execution_count": 153,
     "metadata": {},
     "output_type": "execute_result"
    }
   ],
   "source": [
    "%sql ALTER TABLE salaries ADD added boolean DEFAULT False;"
   ]
  },
  {
   "cell_type": "markdown",
   "metadata": {},
   "source": [
    "Next, run the provided update script and record the **wall time**.\n",
    "\n",
    "**NOTE:** Running the below cell multiple times may result in an error, unless you first delete the rows with the cell given at the end of this subpart."
   ]
  },
  {
   "cell_type": "code",
   "execution_count": 154,
   "metadata": {},
   "outputs": [
    {
     "name": "stdout",
     "output_type": "stream",
     "text": [
      " * postgresql://jovyan@127.0.0.1:5432/baseball\n",
      "   postgresql://jovyan@127.0.0.1:5432/postgres\n",
      "Done.\n",
      "CPU times: user 3.6 ms, sys: 2.34 ms, total: 5.94 ms\n",
      "Wall time: 3.42 s\n"
     ]
    },
    {
     "data": {
      "text/plain": [
       "[]"
      ]
     },
     "execution_count": 154,
     "metadata": {},
     "output_type": "execute_result"
    }
   ],
   "source": [
    "%%time\n",
    "%%sql\n",
    "DO $$\n",
    " DECLARE counter INTEGER := 1;\n",
    " BEGIN\n",
    "     FOR counter IN 100001..400000 LOOP\n",
    "     INSERT INTO salaries (yearid, teamid, lgid, playerid, salary, added)\n",
    "         VALUES (2021, 'ATL', 'NL', 'p' || counter, RANDOM() * 1000000, true);\n",
    "     END LOOP;\n",
    "END;\n",
    "$$;"
   ]
  },
  {
   "cell_type": "code",
   "execution_count": 155,
   "metadata": {},
   "outputs": [],
   "source": [
    "result_7a_timing = 3.42"
   ]
  },
  {
   "cell_type": "code",
   "execution_count": 156,
   "metadata": {
    "deletable": false,
    "editable": false
   },
   "outputs": [
    {
     "data": {
      "text/html": [
       "<p><strong><pre style='display: inline;'>q7a</pre></strong> passed!</p>"
      ],
      "text/plain": [
       "q7a results: All test cases passed!"
      ]
     },
     "execution_count": 156,
     "metadata": {},
     "output_type": "execute_result"
    }
   ],
   "source": [
    "grader.check(\"q7a\")"
   ]
  },
  {
   "cell_type": "markdown",
   "metadata": {},
   "source": [
    "Before adding an index to the salaries table and re-timing the updates, delete all the rows that were added to the table from the update script."
   ]
  },
  {
   "cell_type": "code",
   "execution_count": 157,
   "metadata": {},
   "outputs": [
    {
     "name": "stdout",
     "output_type": "stream",
     "text": [
      " * postgresql://jovyan@127.0.0.1:5432/baseball\n",
      "   postgresql://jovyan@127.0.0.1:5432/postgres\n",
      "300000 rows affected.\n"
     ]
    },
    {
     "data": {
      "text/plain": [
       "[]"
      ]
     },
     "execution_count": 157,
     "metadata": {},
     "output_type": "execute_result"
    }
   ],
   "source": [
    "%%sql\n",
    "DELETE FROM salaries\n",
    "WHERE added = 'true';"
   ]
  },
  {
   "cell_type": "markdown",
   "metadata": {},
   "source": [
    "### Question 7b:\n",
    "Now, create an index on the `salary` column and record the **wall time** after executing the update script."
   ]
  },
  {
   "cell_type": "code",
   "execution_count": 159,
   "metadata": {},
   "outputs": [
    {
     "name": "stdout",
     "output_type": "stream",
     "text": [
      " * postgresql://jovyan@127.0.0.1:5432/baseball\n",
      "   postgresql://jovyan@127.0.0.1:5432/postgres\n",
      "Done.\n"
     ]
    },
    {
     "data": {
      "text/plain": [
       "[]"
      ]
     },
     "execution_count": 159,
     "metadata": {},
     "output_type": "execute_result"
    }
   ],
   "source": [
    "%%sql \n",
    "CREATE INDEX salary_idx\n",
    "ON salaries(salary);"
   ]
  },
  {
   "cell_type": "markdown",
   "metadata": {},
   "source": [
    "**NOTE:** Running the below cell multiple times may result in an error, unless you first delete the rows with the cell given at the end of last subpart."
   ]
  },
  {
   "cell_type": "code",
   "execution_count": 160,
   "metadata": {},
   "outputs": [
    {
     "name": "stdout",
     "output_type": "stream",
     "text": [
      " * postgresql://jovyan@127.0.0.1:5432/baseball\n",
      "   postgresql://jovyan@127.0.0.1:5432/postgres\n",
      "Done.\n",
      "CPU times: user 5.75 ms, sys: 820 µs, total: 6.57 ms\n",
      "Wall time: 6.08 s\n"
     ]
    },
    {
     "data": {
      "text/plain": [
       "[]"
      ]
     },
     "execution_count": 160,
     "metadata": {},
     "output_type": "execute_result"
    }
   ],
   "source": [
    "%%time\n",
    "%%sql\n",
    "DO $$\n",
    " DECLARE counter INTEGER := 1;\n",
    " BEGIN\n",
    "     FOR counter IN 100001..400000 LOOP\n",
    "     INSERT INTO salaries (yearid, teamid, lgid, playerid, salary, added)\n",
    "         VALUES (2021, 'ATL', 'NL', 'p' || counter, RANDOM() * 1000000, true);\n",
    "     END LOOP;\n",
    "END;\n",
    "$$;"
   ]
  },
  {
   "cell_type": "code",
   "execution_count": 161,
   "metadata": {},
   "outputs": [],
   "source": [
    "result_7b_timing = 6.08"
   ]
  },
  {
   "cell_type": "code",
   "execution_count": 162,
   "metadata": {
    "deletable": false,
    "editable": false
   },
   "outputs": [
    {
     "data": {
      "text/html": [
       "<p><strong><pre style='display: inline;'>q7b</pre></strong> passed!</p>"
      ],
      "text/plain": [
       "q7b results: All test cases passed!"
      ]
     },
     "execution_count": 162,
     "metadata": {},
     "output_type": "execute_result"
    }
   ],
   "source": [
    "grader.check(\"q7b\")"
   ]
  },
  {
   "cell_type": "markdown",
   "metadata": {
    "deletable": false,
    "editable": false
   },
   "source": [
    "<!-- BEGIN QUESTION -->\n",
    "\n",
    "### Question 7c:\n",
    "What difference did you notice when you added an index into the salaries table and re-timed the update? Why do you think it happened?\n",
    "\n",
    "<!--\n",
    "BEGIN QUESTION\n",
    "name: q7c\n",
    "manual: true\n",
    "points: 2\n",
    "-->"
   ]
  },
  {
   "cell_type": "markdown",
   "metadata": {},
   "source": [
    "When I add an index into the salaries table the wall time increased. I suppose that is because new tuples are not reflected in index and the incomplete index runs relatively slow."
   ]
  },
  {
   "cell_type": "markdown",
   "metadata": {
    "deletable": false,
    "editable": false
   },
   "source": [
    "<!-- END QUESTION -->\n",
    "\n",
    "<!-- BEGIN QUESTION -->\n",
    "\n",
    "## Question 8: Takeaway\n",
    "\n",
    "In this project, we explored how the database system optimizes query execution and how users can futher tune the performance of their queries.\n",
    "\n",
    "Familiarizing yourself with these optimization and tuning methods will make you a better data engineer. In this question, we'll ask you to recall and summarize these concepts. Who knows? Maybe one day it will help you during an interview or on a project.\n",
    "\n",
    "In the following answer cell,\n",
    "1. Name 3 methods you learned in this project. The method can be either the optimization done by the database system, or the fine tuning done by the user.\n",
    "2. For each method, summarize how and why it can optimize query performance. Feel free to discuss any drawbacks, if applicable.\n",
    "\n",
    "<!--\n",
    "BEGIN QUESTION\n",
    "name: q8\n",
    "manual: true\n",
    "points: 6\n",
    "-->"
   ]
  },
  {
   "cell_type": "markdown",
   "metadata": {},
   "source": [
    "Join: Basically there are 3 types of join, merge join is the fastest, then hash join, and the slowest is nested loop join. When the merge has equi join constrain and data is sorted, like after ORDER BY, the query optimizer will choose merge join. When the merge has equi join constrain but data is not sorted, then with hash join, becasue hash join is the second fastest; If it is a non-equijoin constrain, like \"!=\", merge and hash joins are not applicable, so the optimizer has to choose nested-loops.\n",
    "\n",
    "Index: Index helps in speeding up the queries by providing swift access to the requested data instead of scanning the whole table to retrieve a few tuples, and B+ trees is a popular algorithm to find those tuples. Whereas, index also get some constrains, like if the feature has too many duplictaes index will not help much, and also index is difficilt for long-term maintenance due to low performance od the incomplete index.\n",
    "\n",
    "Clustered Index: A clustered index is useful for improving query performance because the data is sorted on disk, which indicates they have high efficiency when we search for a value or a subset. We usually use key attributes or attributes often used in WHERE clause to cluster. However, if the cluster index does not point to the attributes that query plan to sort or filter, then the index will have little benefit.\n"
   ]
  },
  {
   "cell_type": "markdown",
   "metadata": {},
   "source": [
    "<!-- END QUESTION -->\n",
    "\n",
    "\n",
    "\n",
    "## Congratulations! You have finished Project 2.\n",
    "\n",
    "Run the following cell to zip and download the results of your queries. You will also need to run the export cell at the end of the notebook.\n",
    "\n",
    "**Please save your notebook before exporting (this is a good time to do it!)** Otherwise, we may not be able to register your written responses.\n",
    "\n",
    "**For submission on Gradescope, you will need to submit BOTH the proj2.zip file genreated by the export cell and the results.zip file generated by the following cell.**\n",
    "\n",
    "**Common submission issues:** You MUST submit the generated zip files (not folders) to the autograder. However, Safari is known to automatically unzip files upon downloading. You can fix this by going into Safari preferences, and deselect the box with the text \"Open safe files after downloading\" under the \"General\" tab. If you experience issues with downloading via clicking on the link, you can also navigate to the project 2 directory within JupyterHub (remove `proj2.ipynb` from the url), and manually download the generated zip files. Please post on Ed if you encounter any other submission issues."
   ]
  },
  {
   "cell_type": "code",
   "execution_count": 172,
   "metadata": {
    "scrolled": true
   },
   "outputs": [
    {
     "name": "stdout",
     "output_type": "stream",
     "text": [
      "updating: results/ (stored 0%)\r\n",
      "updating: results/result_1a.csv (deflated 53%)\r\n",
      "updating: results/result_1c.csv (deflated 64%)\r\n",
      "updating: results/result_1di_view.csv (deflated 37%)\r\n",
      "updating: results/result_1di_no_view.csv (deflated 37%)\r\n",
      "updating: results/result_1ei.csv (deflated 64%)\r\n",
      "updating: results/result_1eii.csv (deflated 37%)\r\n",
      "updating: results/result_4a.csv (deflated 59%)\r\n",
      "updating: results/result_4ei.csv (deflated 62%)\r\n",
      "updating: results/result_4eiii.csv (deflated 64%)\r\n",
      "updating: results/result_6a.csv (deflated 72%)\r\n"
     ]
    },
    {
     "data": {
      "text/html": [
       "Click here to download: <a href='./results.zip' target='_blank'>./results.zip</a><br>"
      ],
      "text/plain": [
       "/home/jovyan/fa22/proj/proj2/results.zip"
      ]
     },
     "metadata": {},
     "output_type": "display_data"
    }
   ],
   "source": [
    "from IPython.display import display, FileLink\n",
    "\n",
    "!zip -r results.zip results\n",
    "results_file = FileLink('./results.zip', result_html_prefix=\"Click here to download: \")\n",
    "display(results_file)"
   ]
  },
  {
   "cell_type": "markdown",
   "metadata": {
    "deletable": false,
    "editable": false
   },
   "source": [
    "---\n",
    "\n",
    "To double-check your work, the cell below will rerun all of the autograder tests."
   ]
  },
  {
   "cell_type": "code",
   "execution_count": null,
   "metadata": {
    "deletable": false,
    "editable": false
   },
   "outputs": [],
   "source": [
    "grader.check_all()"
   ]
  },
  {
   "cell_type": "markdown",
   "metadata": {
    "deletable": false,
    "editable": false
   },
   "source": [
    "## Submission\n",
    "\n",
    "Make sure you have run all cells in your notebook in order before running the cell below, so that all images/graphs appear in the output. The cell below will generate a zip file for you to submit. **Please save before exporting!**"
   ]
  },
  {
   "cell_type": "code",
   "execution_count": null,
   "metadata": {
    "deletable": false,
    "editable": false
   },
   "outputs": [],
   "source": [
    "# Save your notebook first, then run this cell to export your submission.\n",
    "grader.export()"
   ]
  },
  {
   "cell_type": "markdown",
   "metadata": {},
   "source": [
    " "
   ]
  }
 ],
 "metadata": {
  "kernelspec": {
   "display_name": "Python 3 (ipykernel)",
   "language": "python",
   "name": "python3"
  },
  "language_info": {
   "codemirror_mode": {
    "name": "ipython",
    "version": 3
   },
   "file_extension": ".py",
   "mimetype": "text/x-python",
   "name": "python",
   "nbconvert_exporter": "python",
   "pygments_lexer": "ipython3",
   "version": "3.9.13"
  }
 },
 "nbformat": 4,
 "nbformat_minor": 4
}
